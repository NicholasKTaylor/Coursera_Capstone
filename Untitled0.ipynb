{
  "nbformat": 4,
  "nbformat_minor": 0,
  "metadata": {
    "colab": {
      "name": "Untitled0.ipynb",
      "provenance": [],
      "collapsed_sections": [],
      "include_colab_link": true
    },
    "kernelspec": {
      "name": "python3",
      "display_name": "Python 3"
    }
  },
  "cells": [
    {
      "cell_type": "markdown",
      "metadata": {
        "id": "view-in-github",
        "colab_type": "text"
      },
      "source": [
        "<a href=\"https://colab.research.google.com/github/NicholasKTaylor/Coursera_Capstone/blob/master/Untitled0.ipynb\" target=\"_parent\"><img src=\"https://colab.research.google.com/assets/colab-badge.svg\" alt=\"Open In Colab\"/></a>"
      ]
    },
    {
      "cell_type": "code",
      "metadata": {
        "id": "6m3R7ehOLHL8",
        "colab_type": "code",
        "colab": {}
      },
      "source": [
        "# Segmenting and Clustering Neighborhoods in Toronto\n",
        "## Question 1 Solution"
      ],
      "execution_count": 0,
      "outputs": []
    },
    {
      "cell_type": "code",
      "metadata": {
        "id": "n2FLNyUEKv8D",
        "colab_type": "code",
        "colab": {
          "base_uri": "https://localhost:8080/",
          "height": 34
        },
        "outputId": "e1ff06d7-59b9-4ba1-f5aa-31e7340e3ad3"
      },
      "source": [
        "import numpy as np # library to handle data in a vectorized manner\n",
        "\n",
        "import pandas as pd # library for data analsysis\n",
        "pd.set_option('display.max_columns', None)\n",
        "pd.set_option('display.max_rows', None)\n",
        "\n",
        "import json # library to handle JSON files\n",
        "\n",
        "#!conda install -c conda-forge geopy --yes # uncomment this line if you haven't completed the Foursquare API lab\n",
        "from geopy.geocoders import Nominatim # convert an address into latitude and longitude values\n",
        "\n",
        "import requests # library to handle requests\n",
        "from pandas.io.json import json_normalize # tranform JSON file into a pandas dataframe\n",
        "\n",
        "# Matplotlib and associated plotting modules\n",
        "import matplotlib.cm as cm\n",
        "import matplotlib.colors as colors\n",
        "\n",
        "# import k-means from clustering stage\n",
        "from sklearn.cluster import KMeans\n",
        "\n",
        "#!conda install -c conda-forge folium=0.5.0 --yes # uncomment this line if you haven't completed the Foursquare API lab\n",
        "import folium # map rendering library\n",
        "\n",
        "print('Libraries imported.')"
      ],
      "execution_count": 4,
      "outputs": [
        {
          "output_type": "stream",
          "text": [
            "Libraries imported.\n"
          ],
          "name": "stdout"
        }
      ]
    },
    {
      "cell_type": "code",
      "metadata": {
        "id": "hE7dLZ6QLwTl",
        "colab_type": "code",
        "colab": {
          "base_uri": "https://localhost:8080/",
          "height": 34
        },
        "outputId": "7be0baf1-f6a0-4f7f-bdd3-f024d0c4b219"
      },
      "source": [
        "\n",
        "url=\"https://en.wikipedia.org/wiki/List_of_postal_codes_of_Canada:_M\"\n",
        "tables=pd.read_html(url)\n",
        "#tables[0].head(5)\n",
        "# The first table contains the data we need\n",
        "df=tables[0].reset_index(drop=True)\n",
        "\n",
        "# Get rid of 'Not Assigned' Boroughs \n",
        "df.drop(df[df['Borough']==\"Not assigned\"].index,axis=0,inplace=True)\n",
        "\n",
        "# Where neighbourhood is Not Assigned, set it to the Borough\n",
        "df.loc[df['Neighbourhood']==\"Not assigned\",'Neighbourhood']=df.loc[df['Neighbourhood']==\"Not assigned\",'Borough']\n",
        "\n",
        "#print('The dataframe df has {} boroughs and {} neighborhoods.'.\n",
        "#      format(\n",
        "#          len(df['Borough'].unique()),\n",
        "#          df.shape[0]))\n",
        "\n",
        "# Aggregate multiple neighbourhoods into Postcode,Boroughs\n",
        "df2 = df.groupby(by=['Postcode','Borough']).agg(lambda x: ','.join(x))\n",
        "df2.reset_index(level=['Postcode','Borough'], inplace=True)\n",
        "# df2.head()\n",
        "\n",
        "print('The dataframe df2 has {} rows.'.\n",
        "      format(df2.shape[0]))\n",
        "\n",
        "\n"
      ],
      "execution_count": 42,
      "outputs": [
        {
          "output_type": "stream",
          "text": [
            "The dataframe df2 has 103 rows.\n"
          ],
          "name": "stdout"
        }
      ]
    },
    {
      "cell_type": "code",
      "metadata": {
        "id": "pP5uyFzR0Dr5",
        "colab_type": "code",
        "colab": {}
      },
      "source": [
        "# Geographical co-ords of Postcodes in CSV at this URL\n",
        "# http://cocl.us/Geospatial_data\"\n",
        "\n",
        "#Hi Maksim, try using geocoder.arcgis instead of geocoder.google, it's much faster. Also, your geocoder statement needs the 'code' outside of the quotes:\n",
        "\n",
        "g = geocoder.google(code, 'Toronto, Ontario') - code not in single quotes\n",
        "\n",
        "g = geocoder.arcgis('{}, Toronto, Ontario'.format(postal_code)) - example in the project notes is a much better way of doing it\n",
        "\n",
        "# Following gives an error when extracting data from four-square query \n",
        "results = requests.get(url).json()\n",
        "\n",
        "\n",
        "venu = results['response']['groups'][0]['items']\n",
        "\n",
        "\n",
        "for venue in venu:\n",
        "\n",
        "venues.append((\n",
        "\n",
        "postcode,\n",
        "\n",
        "borough,\n",
        "\n",
        "neighbourhood,\n",
        "\n",
        "lat,\n",
        "\n",
        "long,\n",
        "\n",
        "venue['venue']['name'],\n",
        "\n",
        "venue['venue']['location']['lat'],\n",
        "\n",
        "venue['venue']['location']['lng'],\n",
        "\n",
        "venue['venue']['categories'][0]['name']))\n",
        "\n",
        "error :\n",
        "  \n",
        "#  Try This one ?  Need to add default value for LIMIT\n",
        "I run the following code and get the error below:\n",
        "\n",
        "def getNearbyVenues(names, latitudes, longitudes, radius=500, limit=500):\n",
        "\n",
        "venues_list=[]\n",
        "\n",
        "for name, lat, lng in zip(names, latitudes, longitudes):\n",
        "\n",
        "print(name)\n",
        "\n",
        "# create the API request URL\n",
        "\n",
        "url = 'https://api.foursquare.com/v2/venues/explore?&client_id=R2GV5DLRG3UMJC3C2OXZAORWIBP3WIU35NEUS3I4U3R3HKG3&client_secret=OGF4P1A01F1Q0R2ARWKEVKUA5AH40AF3IC1S2BZ0B2AT2LIA&v=20180605&ll= 40.7900869,-73.9598295&radius=500&limit=500'.format(\n",
        "\n",
        "CLIENT_ID,\n",
        "\n",
        "CLIENT_SECRET,\n",
        "\n",
        "VERSION,\n",
        "\n",
        "lat,\n",
        "\n",
        "lng,\n",
        "\n",
        "radius,\n",
        "\n",
        "LIMIT)\n",
        "\n",
        "\n",
        "# make the GET request\n",
        "\n",
        "results = requests.get(url).json()[\"response\"]['groups'][0]['items']\n",
        "\n",
        "\n",
        "# return only relevant information for each nearby venue\n",
        "\n",
        "venues_list.append([(\n",
        "\n",
        "name,\n",
        "\n",
        "lat,\n",
        "\n",
        "lng,\n",
        "\n",
        "v['venue']['name'],\n",
        "\n",
        "v['venue']['location']['lat'],\n",
        "\n",
        "v['venue']['location']['lng'],\n",
        "\n",
        "v['venue']['categories'][0]['name']) for v in results])\n",
        "\n",
        "\n",
        "nearby_venues = pd.DataFrame([item for venue_list in venues_list for item in venue_list])\n",
        "\n",
        "nearby_venues.columns = ['Neighborhood',\n",
        "\n",
        "'Neighborhood Latitude',\n",
        "\n",
        "'Neighborhood Longitude',\n",
        "\n",
        "'Venue',\n",
        "\n",
        "'Venue Latitude',\n",
        "\n",
        "'Venue Longitude',\n",
        "\n",
        "'Venue Category']\n",
        "\n",
        "return(nearby_venues)\n",
        "\n",
        "\n",
        "#####\n",
        "#Using arcgis\n",
        "Lat_list=[]\n",
        "Lng_list=[]\n",
        "for i in range(neighbourhood_df.shape[0]):\n",
        "    address='{}, Toronto, Ontario'.format(neighbourhood_df.at[i,'Postcode'])\n",
        "    g = geocoder.arcgis(address)\n",
        "    Lat_list.append(g.latlng[0])\n",
        "    Lng_list.append(g.latlng[1])\n",
        "    \n",
        "#In Part 3, I run the following code to group rows by neighborhood and by take mean of the frequency of occurrence of each category\n",
        "\n",
        "downtown_toronto_grouped = downtown_toronto_onehot.groupby(['Neighborhood']).mean().reset_index()\n",
        "\n",
        "\n",
        "#When clustering, remember You cannot include columns that are strings in your dataframe, which you want to cluster. If I were to guess, I think you are including the column of neighborhoods names, am I right?\n",
        "\n"
      ],
      "execution_count": 0,
      "outputs": []
    }
  ]
}