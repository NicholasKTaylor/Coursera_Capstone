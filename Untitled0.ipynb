{
  "nbformat": 4,
  "nbformat_minor": 0,
  "metadata": {
    "colab": {
      "name": "Untitled0.ipynb",
      "provenance": [],
      "collapsed_sections": [],
      "include_colab_link": true
    },
    "kernelspec": {
      "name": "python3",
      "display_name": "Python 3"
    }
  },
  "cells": [
    {
      "cell_type": "markdown",
      "metadata": {
        "id": "view-in-github",
        "colab_type": "text"
      },
      "source": [
        "<a href=\"https://colab.research.google.com/github/NicholasKTaylor/Coursera_Capstone/blob/master/Untitled0.ipynb\" target=\"_parent\"><img src=\"https://colab.research.google.com/assets/colab-badge.svg\" alt=\"Open In Colab\"/></a>"
      ]
    },
    {
      "cell_type": "markdown",
      "metadata": {
        "id": "kz3EfYwTttJw",
        "colab_type": "text"
      },
      "source": [
        "# Segmenting and Clustering Neighborhoods in Toronto\n",
        "## Question 1 Solution"
      ]
    },
    {
      "cell_type": "code",
      "metadata": {
        "id": "n2FLNyUEKv8D",
        "colab_type": "code",
        "colab": {
          "base_uri": "https://localhost:8080/",
          "height": 34
        },
        "outputId": "48c1df4f-8c82-466b-dac3-ebb0676b63f1"
      },
      "source": [
        "import numpy as np # library to handle data in a vectorized manner\n",
        "\n",
        "import pandas as pd # library for data analsysis\n",
        "pd.set_option('display.max_columns', None)\n",
        "pd.set_option('display.max_rows', None)\n",
        "\n",
        "import json # library to handle JSON files\n",
        "\n",
        "#!conda install -c conda-forge geopy --yes # uncomment this line if you haven't completed the Foursquare API lab\n",
        "from geopy.geocoders import Nominatim # convert an address into latitude and longitude values\n",
        "\n",
        "import requests # library to handle requests\n",
        "from pandas.io.json import json_normalize # tranform JSON file into a pandas dataframe\n",
        "\n",
        "# Matplotlib and associated plotting modules\n",
        "import matplotlib.cm as cm\n",
        "import matplotlib.colors as colors\n",
        "\n",
        "# import k-means from clustering stage\n",
        "from sklearn.cluster import KMeans\n",
        "\n",
        "#!conda install -c conda-forge folium=0.5.0 --yes # uncomment this line if you haven't completed the Foursquare API lab\n",
        "import folium # map rendering library\n",
        "\n",
        "print('Libraries imported.')"
      ],
      "execution_count": 3,
      "outputs": [
        {
          "output_type": "stream",
          "text": [
            "Libraries imported.\n"
          ],
          "name": "stdout"
        }
      ]
    },
    {
      "cell_type": "code",
      "metadata": {
        "id": "hE7dLZ6QLwTl",
        "colab_type": "code",
        "colab": {
          "base_uri": "https://localhost:8080/",
          "height": 34
        },
        "outputId": "c0feaf59-3e69-4c0d-f5bc-e740db7f5358"
      },
      "source": [
        "\n",
        "url=\"https://en.wikipedia.org/wiki/List_of_postal_codes_of_Canada:_M\"\n",
        "tables=pd.read_html(url)\n",
        "#tables[0].head(5)\n",
        "# The first table contains the data we need\n",
        "df=tables[0].reset_index(drop=True)\n",
        "\n",
        "# Get rid of 'Not Assigned' Boroughs \n",
        "df.drop(df[df['Borough']==\"Not assigned\"].index,axis=0,inplace=True)\n",
        "\n",
        "# Where neighbourhood is Not Assigned, set it to the Borough\n",
        "df.loc[df['Neighbourhood']==\"Not assigned\",'Neighbourhood']=df.loc[df['Neighbourhood']==\"Not assigned\",'Borough']\n",
        "\n",
        "#print('The dataframe df has {} boroughs and {} neighborhoods.'.\n",
        "#      format(\n",
        "#          len(df['Borough'].unique()),\n",
        "#          df.shape[0]))\n",
        "\n",
        "# Aggregate multiple neighbourhoods into Postcode,Boroughs\n",
        "df2 = df.groupby(by=['Postcode','Borough']).agg(lambda x: ','.join(x))\n",
        "df2.reset_index(level=['Postcode','Borough'], inplace=True)\n",
        "# df2.head()\n",
        "\n",
        "print('The dataframe df2 has {} rows.'.\n",
        "      format(df2.shape[0]))\n",
        "\n",
        "\n"
      ],
      "execution_count": 4,
      "outputs": [
        {
          "output_type": "stream",
          "text": [
            "The dataframe df2 has 103 rows.\n"
          ],
          "name": "stdout"
        }
      ]
    },
    {
      "cell_type": "markdown",
      "metadata": {
        "id": "i6ltp0WDt6fM",
        "colab_type": "text"
      },
      "source": [
        "## Question 2 Solution"
      ]
    },
    {
      "cell_type": "markdown",
      "metadata": {
        "id": "N2FQPDdQs2Wf",
        "colab_type": "text"
      },
      "source": [
        "### Get geospatial coords from a file as its quicker and easier than making lots of single calls\n",
        "\n",
        "\n",
        "### Join our 2 dataframes together using Postcode/Postal Code\n",
        "\n",
        "\n",
        "### Remove redundant column and put into right order"
      ]
    },
    {
      "cell_type": "code",
      "metadata": {
        "id": "5ZHaLGPKZ1FV",
        "colab_type": "code",
        "colab": {
          "base_uri": "https://localhost:8080/",
          "height": 204
        },
        "outputId": "fb257249-1473-481e-bad8-1bc604e78e35"
      },
      "source": [
        "# Get geospatial coords from a file as its quicker and easier than making lots of single calls\n",
        "geo = pd.read_csv(\"http://cocl.us/Geospatial_data\")\n",
        "\n",
        "# Join our 2 dataframes together using Postcode/Postal Code\n",
        "df_merged=pd.merge(df2, geo, left_on='Postcode',right_on='Postal Code',how='inner')\n",
        "\n",
        "# Remove redundant column and put into right order\n",
        "newIndex=['Postal Code','Borough','Neighbourhood','Latitude','Longitude']\n",
        "df_merged = df_merged.reindex(newIndex,axis=1)\n",
        "df_merged.head()"
      ],
      "execution_count": 5,
      "outputs": [
        {
          "output_type": "execute_result",
          "data": {
            "text/html": [
              "<div>\n",
              "<style scoped>\n",
              "    .dataframe tbody tr th:only-of-type {\n",
              "        vertical-align: middle;\n",
              "    }\n",
              "\n",
              "    .dataframe tbody tr th {\n",
              "        vertical-align: top;\n",
              "    }\n",
              "\n",
              "    .dataframe thead th {\n",
              "        text-align: right;\n",
              "    }\n",
              "</style>\n",
              "<table border=\"1\" class=\"dataframe\">\n",
              "  <thead>\n",
              "    <tr style=\"text-align: right;\">\n",
              "      <th></th>\n",
              "      <th>Postal Code</th>\n",
              "      <th>Borough</th>\n",
              "      <th>Neighbourhood</th>\n",
              "      <th>Latitude</th>\n",
              "      <th>Longitude</th>\n",
              "    </tr>\n",
              "  </thead>\n",
              "  <tbody>\n",
              "    <tr>\n",
              "      <th>0</th>\n",
              "      <td>M1B</td>\n",
              "      <td>Scarborough</td>\n",
              "      <td>Rouge,Malvern</td>\n",
              "      <td>43.806686</td>\n",
              "      <td>-79.194353</td>\n",
              "    </tr>\n",
              "    <tr>\n",
              "      <th>1</th>\n",
              "      <td>M1C</td>\n",
              "      <td>Scarborough</td>\n",
              "      <td>Highland Creek,Rouge Hill,Port Union</td>\n",
              "      <td>43.784535</td>\n",
              "      <td>-79.160497</td>\n",
              "    </tr>\n",
              "    <tr>\n",
              "      <th>2</th>\n",
              "      <td>M1E</td>\n",
              "      <td>Scarborough</td>\n",
              "      <td>Guildwood,Morningside,West Hill</td>\n",
              "      <td>43.763573</td>\n",
              "      <td>-79.188711</td>\n",
              "    </tr>\n",
              "    <tr>\n",
              "      <th>3</th>\n",
              "      <td>M1G</td>\n",
              "      <td>Scarborough</td>\n",
              "      <td>Woburn</td>\n",
              "      <td>43.770992</td>\n",
              "      <td>-79.216917</td>\n",
              "    </tr>\n",
              "    <tr>\n",
              "      <th>4</th>\n",
              "      <td>M1H</td>\n",
              "      <td>Scarborough</td>\n",
              "      <td>Cedarbrae</td>\n",
              "      <td>43.773136</td>\n",
              "      <td>-79.239476</td>\n",
              "    </tr>\n",
              "  </tbody>\n",
              "</table>\n",
              "</div>"
            ],
            "text/plain": [
              "  Postal Code      Borough                         Neighbourhood   Latitude  \\\n",
              "0         M1B  Scarborough                         Rouge,Malvern  43.806686   \n",
              "1         M1C  Scarborough  Highland Creek,Rouge Hill,Port Union  43.784535   \n",
              "2         M1E  Scarborough       Guildwood,Morningside,West Hill  43.763573   \n",
              "3         M1G  Scarborough                                Woburn  43.770992   \n",
              "4         M1H  Scarborough                             Cedarbrae  43.773136   \n",
              "\n",
              "   Longitude  \n",
              "0 -79.194353  \n",
              "1 -79.160497  \n",
              "2 -79.188711  \n",
              "3 -79.216917  \n",
              "4 -79.239476  "
            ]
          },
          "metadata": {
            "tags": []
          },
          "execution_count": 5
        }
      ]
    },
    {
      "cell_type": "markdown",
      "metadata": {
        "id": "y3Pv-X6IuDsj",
        "colab_type": "text"
      },
      "source": [
        "## Question 3 Solution"
      ]
    },
    {
      "cell_type": "markdown",
      "metadata": {
        "id": "07OPyE67tYWw",
        "colab_type": "text"
      },
      "source": [
        "### Just deal with the Toronto Boroughs"
      ]
    },
    {
      "cell_type": "code",
      "metadata": {
        "id": "MS_qnuyqpFPC",
        "colab_type": "code",
        "colab": {
          "base_uri": "https://localhost:8080/",
          "height": 204
        },
        "outputId": "2eae3c95-4be4-46a8-c4f9-c7555f9604aa"
      },
      "source": [
        "# Just deal with the Toronto Boroughs\n",
        "toronto_data = df_merged[df_merged['Borough'].str.contains('Toronto')].reset_index(drop=True)\n",
        "toronto_data.head()\n"
      ],
      "execution_count": 6,
      "outputs": [
        {
          "output_type": "execute_result",
          "data": {
            "text/html": [
              "<div>\n",
              "<style scoped>\n",
              "    .dataframe tbody tr th:only-of-type {\n",
              "        vertical-align: middle;\n",
              "    }\n",
              "\n",
              "    .dataframe tbody tr th {\n",
              "        vertical-align: top;\n",
              "    }\n",
              "\n",
              "    .dataframe thead th {\n",
              "        text-align: right;\n",
              "    }\n",
              "</style>\n",
              "<table border=\"1\" class=\"dataframe\">\n",
              "  <thead>\n",
              "    <tr style=\"text-align: right;\">\n",
              "      <th></th>\n",
              "      <th>Postal Code</th>\n",
              "      <th>Borough</th>\n",
              "      <th>Neighbourhood</th>\n",
              "      <th>Latitude</th>\n",
              "      <th>Longitude</th>\n",
              "    </tr>\n",
              "  </thead>\n",
              "  <tbody>\n",
              "    <tr>\n",
              "      <th>0</th>\n",
              "      <td>M4E</td>\n",
              "      <td>East Toronto</td>\n",
              "      <td>The Beaches</td>\n",
              "      <td>43.676357</td>\n",
              "      <td>-79.293031</td>\n",
              "    </tr>\n",
              "    <tr>\n",
              "      <th>1</th>\n",
              "      <td>M4K</td>\n",
              "      <td>East Toronto</td>\n",
              "      <td>The Danforth West,Riverdale</td>\n",
              "      <td>43.679557</td>\n",
              "      <td>-79.352188</td>\n",
              "    </tr>\n",
              "    <tr>\n",
              "      <th>2</th>\n",
              "      <td>M4L</td>\n",
              "      <td>East Toronto</td>\n",
              "      <td>The Beaches West,India Bazaar</td>\n",
              "      <td>43.668999</td>\n",
              "      <td>-79.315572</td>\n",
              "    </tr>\n",
              "    <tr>\n",
              "      <th>3</th>\n",
              "      <td>M4M</td>\n",
              "      <td>East Toronto</td>\n",
              "      <td>Studio District</td>\n",
              "      <td>43.659526</td>\n",
              "      <td>-79.340923</td>\n",
              "    </tr>\n",
              "    <tr>\n",
              "      <th>4</th>\n",
              "      <td>M4N</td>\n",
              "      <td>Central Toronto</td>\n",
              "      <td>Lawrence Park</td>\n",
              "      <td>43.728020</td>\n",
              "      <td>-79.388790</td>\n",
              "    </tr>\n",
              "  </tbody>\n",
              "</table>\n",
              "</div>"
            ],
            "text/plain": [
              "  Postal Code          Borough                  Neighbourhood   Latitude  \\\n",
              "0         M4E     East Toronto                    The Beaches  43.676357   \n",
              "1         M4K     East Toronto    The Danforth West,Riverdale  43.679557   \n",
              "2         M4L     East Toronto  The Beaches West,India Bazaar  43.668999   \n",
              "3         M4M     East Toronto                Studio District  43.659526   \n",
              "4         M4N  Central Toronto                  Lawrence Park  43.728020   \n",
              "\n",
              "   Longitude  \n",
              "0 -79.293031  \n",
              "1 -79.352188  \n",
              "2 -79.315572  \n",
              "3 -79.340923  \n",
              "4 -79.388790  "
            ]
          },
          "metadata": {
            "tags": []
          },
          "execution_count": 6
        }
      ]
    },
    {
      "cell_type": "markdown",
      "metadata": {
        "id": "fVsiboUlsFtV",
        "colab_type": "text"
      },
      "source": [
        "### Get The Location of Toronto"
      ]
    },
    {
      "cell_type": "code",
      "metadata": {
        "id": "1P5kbjhSsNL_",
        "colab_type": "code",
        "colab": {
          "base_uri": "https://localhost:8080/",
          "height": 34
        },
        "outputId": "f9099da7-c4d8-4b89-e2b0-c9f29dae3bd4"
      },
      "source": [
        "address = 'Toronto, ON'\n",
        "\n",
        "geolocator = Nominatim(user_agent=\"to_explorer\")\n",
        "location = geolocator.geocode(address)\n",
        "latitude = location.latitude\n",
        "longitude = location.longitude\n",
        "print('The geograpical coordinate of Toronto are {}, {}.'.format(latitude, longitude))"
      ],
      "execution_count": 7,
      "outputs": [
        {
          "output_type": "stream",
          "text": [
            "The geograpical coordinate of Toronto are 43.653963, -79.387207.\n"
          ],
          "name": "stdout"
        }
      ]
    },
    {
      "cell_type": "code",
      "metadata": {
        "id": "UNOvta4kulDE",
        "colab_type": "code",
        "colab": {
          "base_uri": "https://localhost:8080/",
          "height": 759
        },
        "outputId": "f9a58712-444c-4dfe-c6a9-4909378c1fa2"
      },
      "source": [
        "# create map of Toronto using latitude and longitude values\n",
        "map_toronto = folium.Map(location=[latitude, longitude], zoom_start=11)\n",
        "\n",
        "# add markers to map\n",
        "for lat, lng, label in zip(toronto_data['Latitude'], toronto_data['Longitude'], toronto_data['Neighbourhood']):\n",
        "    label = folium.Popup(label, parse_html=True)\n",
        "    folium.CircleMarker(\n",
        "        [lat, lng],\n",
        "        radius=5,\n",
        "        popup=label,\n",
        "        color='blue',\n",
        "        fill=True,\n",
        "        fill_color='#3186cc',\n",
        "        fill_opacity=0.7,\n",
        "        parse_html=False).add_to(map_toronto)  \n",
        "    \n",
        "map_toronto"
      ],
      "execution_count": 8,
      "outputs": [
        {
          "output_type": "execute_result",
          "data": {
            "text/html": [
              "<div style=\"width:100%;\"><div style=\"position:relative;width:100%;height:0;padding-bottom:60%;\"><iframe src=\"data:text/html;charset=utf-8;base64,PCFET0NUWVBFIGh0bWw+CjxoZWFkPiAgICAKICAgIDxtZXRhIGh0dHAtZXF1aXY9ImNvbnRlbnQtdHlwZSIgY29udGVudD0idGV4dC9odG1sOyBjaGFyc2V0PVVURi04IiAvPgogICAgPHNjcmlwdD5MX1BSRUZFUl9DQU5WQVM9ZmFsc2U7IExfTk9fVE9VQ0g9ZmFsc2U7IExfRElTQUJMRV8zRD1mYWxzZTs8L3NjcmlwdD4KICAgIDxzY3JpcHQgc3JjPSJodHRwczovL2Nkbi5qc2RlbGl2ci5uZXQvbnBtL2xlYWZsZXRAMS40LjAvZGlzdC9sZWFmbGV0LmpzIj48L3NjcmlwdD4KICAgIDxzY3JpcHQgc3JjPSJodHRwczovL2NvZGUuanF1ZXJ5LmNvbS9qcXVlcnktMS4xMi40Lm1pbi5qcyI+PC9zY3JpcHQ+CiAgICA8c2NyaXB0IHNyYz0iaHR0cHM6Ly9tYXhjZG4uYm9vdHN0cmFwY2RuLmNvbS9ib290c3RyYXAvMy4yLjAvanMvYm9vdHN0cmFwLm1pbi5qcyI+PC9zY3JpcHQ+CiAgICA8c2NyaXB0IHNyYz0iaHR0cHM6Ly9jZG5qcy5jbG91ZGZsYXJlLmNvbS9hamF4L2xpYnMvTGVhZmxldC5hd2Vzb21lLW1hcmtlcnMvMi4wLjIvbGVhZmxldC5hd2Vzb21lLW1hcmtlcnMuanMiPjwvc2NyaXB0PgogICAgPGxpbmsgcmVsPSJzdHlsZXNoZWV0IiBocmVmPSJodHRwczovL2Nkbi5qc2RlbGl2ci5uZXQvbnBtL2xlYWZsZXRAMS40LjAvZGlzdC9sZWFmbGV0LmNzcyIvPgogICAgPGxpbmsgcmVsPSJzdHlsZXNoZWV0IiBocmVmPSJodHRwczovL21heGNkbi5ib290c3RyYXBjZG4uY29tL2Jvb3RzdHJhcC8zLjIuMC9jc3MvYm9vdHN0cmFwLm1pbi5jc3MiLz4KICAgIDxsaW5rIHJlbD0ic3R5bGVzaGVldCIgaHJlZj0iaHR0cHM6Ly9tYXhjZG4uYm9vdHN0cmFwY2RuLmNvbS9ib290c3RyYXAvMy4yLjAvY3NzL2Jvb3RzdHJhcC10aGVtZS5taW4uY3NzIi8+CiAgICA8bGluayByZWw9InN0eWxlc2hlZXQiIGhyZWY9Imh0dHBzOi8vbWF4Y2RuLmJvb3RzdHJhcGNkbi5jb20vZm9udC1hd2Vzb21lLzQuNi4zL2Nzcy9mb250LWF3ZXNvbWUubWluLmNzcyIvPgogICAgPGxpbmsgcmVsPSJzdHlsZXNoZWV0IiBocmVmPSJodHRwczovL2NkbmpzLmNsb3VkZmxhcmUuY29tL2FqYXgvbGlicy9MZWFmbGV0LmF3ZXNvbWUtbWFya2Vycy8yLjAuMi9sZWFmbGV0LmF3ZXNvbWUtbWFya2Vycy5jc3MiLz4KICAgIDxsaW5rIHJlbD0ic3R5bGVzaGVldCIgaHJlZj0iaHR0cHM6Ly9yYXdjZG4uZ2l0aGFjay5jb20vcHl0aG9uLXZpc3VhbGl6YXRpb24vZm9saXVtL21hc3Rlci9mb2xpdW0vdGVtcGxhdGVzL2xlYWZsZXQuYXdlc29tZS5yb3RhdGUuY3NzIi8+CiAgICA8c3R5bGU+aHRtbCwgYm9keSB7d2lkdGg6IDEwMCU7aGVpZ2h0OiAxMDAlO21hcmdpbjogMDtwYWRkaW5nOiAwO308L3N0eWxlPgogICAgPHN0eWxlPiNtYXAge3Bvc2l0aW9uOmFic29sdXRlO3RvcDowO2JvdHRvbTowO3JpZ2h0OjA7bGVmdDowO308L3N0eWxlPgogICAgCiAgICA8bWV0YSBuYW1lPSJ2aWV3cG9ydCIgY29udGVudD0id2lkdGg9ZGV2aWNlLXdpZHRoLAogICAgICAgIGluaXRpYWwtc2NhbGU9MS4wLCBtYXhpbXVtLXNjYWxlPTEuMCwgdXNlci1zY2FsYWJsZT1ubyIgLz4KICAgIDxzdHlsZT4jbWFwXzUwMTE0NDdmZWI0OTRkNDA5ZWYwOWZiNmYxNWJlMjRjIHsKICAgICAgICBwb3NpdGlvbjogcmVsYXRpdmU7CiAgICAgICAgd2lkdGg6IDEwMC4wJTsKICAgICAgICBoZWlnaHQ6IDEwMC4wJTsKICAgICAgICBsZWZ0OiAwLjAlOwogICAgICAgIHRvcDogMC4wJTsKICAgICAgICB9CiAgICA8L3N0eWxlPgo8L2hlYWQ+Cjxib2R5PiAgICAKICAgIAogICAgPGRpdiBjbGFzcz0iZm9saXVtLW1hcCIgaWQ9Im1hcF81MDExNDQ3ZmViNDk0ZDQwOWVmMDlmYjZmMTViZTI0YyIgPjwvZGl2Pgo8L2JvZHk+CjxzY3JpcHQ+ICAgIAogICAgCiAgICAKICAgICAgICB2YXIgYm91bmRzID0gbnVsbDsKICAgIAoKICAgIHZhciBtYXBfNTAxMTQ0N2ZlYjQ5NGQ0MDllZjA5ZmI2ZjE1YmUyNGMgPSBMLm1hcCgKICAgICAgICAnbWFwXzUwMTE0NDdmZWI0OTRkNDA5ZWYwOWZiNmYxNWJlMjRjJywgewogICAgICAgIGNlbnRlcjogWzQzLjY1Mzk2MywgLTc5LjM4NzIwN10sCiAgICAgICAgem9vbTogMTEsCiAgICAgICAgbWF4Qm91bmRzOiBib3VuZHMsCiAgICAgICAgbGF5ZXJzOiBbXSwKICAgICAgICB3b3JsZENvcHlKdW1wOiBmYWxzZSwKICAgICAgICBjcnM6IEwuQ1JTLkVQU0czODU3LAogICAgICAgIHpvb21Db250cm9sOiB0cnVlLAogICAgICAgIH0pOwoKCiAgICAKICAgIHZhciB0aWxlX2xheWVyXzlkZjdlM2E3MzBhYzRiZjJiYWY1MDFhZTkxMDVlNGZlID0gTC50aWxlTGF5ZXIoCiAgICAgICAgJ2h0dHBzOi8ve3N9LnRpbGUub3BlbnN0cmVldG1hcC5vcmcve3p9L3t4fS97eX0ucG5nJywKICAgICAgICB7CiAgICAgICAgImF0dHJpYnV0aW9uIjogbnVsbCwKICAgICAgICAiZGV0ZWN0UmV0aW5hIjogZmFsc2UsCiAgICAgICAgIm1heE5hdGl2ZVpvb20iOiAxOCwKICAgICAgICAibWF4Wm9vbSI6IDE4LAogICAgICAgICJtaW5ab29tIjogMCwKICAgICAgICAibm9XcmFwIjogZmFsc2UsCiAgICAgICAgIm9wYWNpdHkiOiAxLAogICAgICAgICJzdWJkb21haW5zIjogImFiYyIsCiAgICAgICAgInRtcyI6IGZhbHNlCn0pLmFkZFRvKG1hcF81MDExNDQ3ZmViNDk0ZDQwOWVmMDlmYjZmMTViZTI0Yyk7CiAgICAKICAgICAgICAgICAgdmFyIGNpcmNsZV9tYXJrZXJfY2I0OWRhMGM1M2VhNDhmODhmZWM4NGRkNmIwOTZjNzAgPSBMLmNpcmNsZU1hcmtlcigKICAgICAgICAgICAgICAgIFs0My42NzYzNTczOTk5OTk5OSwgLTc5LjI5MzAzMTJdLAogICAgICAgICAgICAgICAgewogICJidWJibGluZ01vdXNlRXZlbnRzIjogdHJ1ZSwKICAiY29sb3IiOiAiYmx1ZSIsCiAgImRhc2hBcnJheSI6IG51bGwsCiAgImRhc2hPZmZzZXQiOiBudWxsLAogICJmaWxsIjogdHJ1ZSwKICAiZmlsbENvbG9yIjogIiMzMTg2Y2MiLAogICJmaWxsT3BhY2l0eSI6IDAuNywKICAiZmlsbFJ1bGUiOiAiZXZlbm9kZCIsCiAgImxpbmVDYXAiOiAicm91bmQiLAogICJsaW5lSm9pbiI6ICJyb3VuZCIsCiAgIm9wYWNpdHkiOiAxLjAsCiAgInJhZGl1cyI6IDUsCiAgInN0cm9rZSI6IHRydWUsCiAgIndlaWdodCI6IDMKfQogICAgICAgICAgICAgICAgKQogICAgICAgICAgICAgICAgLmFkZFRvKG1hcF81MDExNDQ3ZmViNDk0ZDQwOWVmMDlmYjZmMTViZTI0Yyk7CiAgICAgICAgICAgIAogICAgCiAgICAgICAgICAgIHZhciBwb3B1cF8zOGM4MmMyMzJlNzQ0MGFmOTRjZmQ4NWQwYjAxMzhmOSA9IEwucG9wdXAoe21heFdpZHRoOiAnMTAwJScKICAgICAgICAgICAgCiAgICAgICAgICAgIH0pOwoKICAgICAgICAgICAgCiAgICAgICAgICAgICAgICB2YXIgaHRtbF80YTllMTMwYmM1NmE0OTljODNlMDhhNzdlNWVkODNiZCA9ICQoYDxkaXYgaWQ9Imh0bWxfNGE5ZTEzMGJjNTZhNDk5YzgzZTA4YTc3ZTVlZDgzYmQiIHN0eWxlPSJ3aWR0aDogMTAwLjAlOyBoZWlnaHQ6IDEwMC4wJTsiPlRoZSBCZWFjaGVzPC9kaXY+YClbMF07CiAgICAgICAgICAgICAgICBwb3B1cF8zOGM4MmMyMzJlNzQ0MGFmOTRjZmQ4NWQwYjAxMzhmOS5zZXRDb250ZW50KGh0bWxfNGE5ZTEzMGJjNTZhNDk5YzgzZTA4YTc3ZTVlZDgzYmQpOwogICAgICAgICAgICAKCiAgICAgICAgICAgIGNpcmNsZV9tYXJrZXJfY2I0OWRhMGM1M2VhNDhmODhmZWM4NGRkNmIwOTZjNzAuYmluZFBvcHVwKHBvcHVwXzM4YzgyYzIzMmU3NDQwYWY5NGNmZDg1ZDBiMDEzOGY5KQogICAgICAgICAgICA7CgogICAgICAgICAgICAKICAgICAgICAKICAgIAogICAgICAgICAgICB2YXIgY2lyY2xlX21hcmtlcl82NDM3N2NhMzkwYjU0N2FhYWNmNjc0M2IwMmM5NDUxNCA9IEwuY2lyY2xlTWFya2VyKAogICAgICAgICAgICAgICAgWzQzLjY3OTU1NzEsIC03OS4zNTIxODhdLAogICAgICAgICAgICAgICAgewogICJidWJibGluZ01vdXNlRXZlbnRzIjogdHJ1ZSwKICAiY29sb3IiOiAiYmx1ZSIsCiAgImRhc2hBcnJheSI6IG51bGwsCiAgImRhc2hPZmZzZXQiOiBudWxsLAogICJmaWxsIjogdHJ1ZSwKICAiZmlsbENvbG9yIjogIiMzMTg2Y2MiLAogICJmaWxsT3BhY2l0eSI6IDAuNywKICAiZmlsbFJ1bGUiOiAiZXZlbm9kZCIsCiAgImxpbmVDYXAiOiAicm91bmQiLAogICJsaW5lSm9pbiI6ICJyb3VuZCIsCiAgIm9wYWNpdHkiOiAxLjAsCiAgInJhZGl1cyI6IDUsCiAgInN0cm9rZSI6IHRydWUsCiAgIndlaWdodCI6IDMKfQogICAgICAgICAgICAgICAgKQogICAgICAgICAgICAgICAgLmFkZFRvKG1hcF81MDExNDQ3ZmViNDk0ZDQwOWVmMDlmYjZmMTViZTI0Yyk7CiAgICAgICAgICAgIAogICAgCiAgICAgICAgICAgIHZhciBwb3B1cF80YzNiNjdkZGQzNjU0NjMwYjZiZDdjNjM2MGE3OWViOSA9IEwucG9wdXAoe21heFdpZHRoOiAnMTAwJScKICAgICAgICAgICAgCiAgICAgICAgICAgIH0pOwoKICAgICAgICAgICAgCiAgICAgICAgICAgICAgICB2YXIgaHRtbF84NGE3ZDQwYTk5ZDc0YWJlYTZhYjJmMTI3ZDc0MGNlYyA9ICQoYDxkaXYgaWQ9Imh0bWxfODRhN2Q0MGE5OWQ3NGFiZWE2YWIyZjEyN2Q3NDBjZWMiIHN0eWxlPSJ3aWR0aDogMTAwLjAlOyBoZWlnaHQ6IDEwMC4wJTsiPlRoZSBEYW5mb3J0aCBXZXN0LFJpdmVyZGFsZTwvZGl2PmApWzBdOwogICAgICAgICAgICAgICAgcG9wdXBfNGMzYjY3ZGRkMzY1NDYzMGI2YmQ3YzYzNjBhNzllYjkuc2V0Q29udGVudChodG1sXzg0YTdkNDBhOTlkNzRhYmVhNmFiMmYxMjdkNzQwY2VjKTsKICAgICAgICAgICAgCgogICAgICAgICAgICBjaXJjbGVfbWFya2VyXzY0Mzc3Y2EzOTBiNTQ3YWFhY2Y2NzQzYjAyYzk0NTE0LmJpbmRQb3B1cChwb3B1cF80YzNiNjdkZGQzNjU0NjMwYjZiZDdjNjM2MGE3OWViOSkKICAgICAgICAgICAgOwoKICAgICAgICAgICAgCiAgICAgICAgCiAgICAKICAgICAgICAgICAgdmFyIGNpcmNsZV9tYXJrZXJfZjgzNDUwODcxOWIwNGI5MDg4YzY2ZmYxMzNjZmQ5ZTcgPSBMLmNpcmNsZU1hcmtlcigKICAgICAgICAgICAgICAgIFs0My42Njg5OTg1LCAtNzkuMzE1NTcxNTk5OTk5OThdLAogICAgICAgICAgICAgICAgewogICJidWJibGluZ01vdXNlRXZlbnRzIjogdHJ1ZSwKICAiY29sb3IiOiAiYmx1ZSIsCiAgImRhc2hBcnJheSI6IG51bGwsCiAgImRhc2hPZmZzZXQiOiBudWxsLAogICJmaWxsIjogdHJ1ZSwKICAiZmlsbENvbG9yIjogIiMzMTg2Y2MiLAogICJmaWxsT3BhY2l0eSI6IDAuNywKICAiZmlsbFJ1bGUiOiAiZXZlbm9kZCIsCiAgImxpbmVDYXAiOiAicm91bmQiLAogICJsaW5lSm9pbiI6ICJyb3VuZCIsCiAgIm9wYWNpdHkiOiAxLjAsCiAgInJhZGl1cyI6IDUsCiAgInN0cm9rZSI6IHRydWUsCiAgIndlaWdodCI6IDMKfQogICAgICAgICAgICAgICAgKQogICAgICAgICAgICAgICAgLmFkZFRvKG1hcF81MDExNDQ3ZmViNDk0ZDQwOWVmMDlmYjZmMTViZTI0Yyk7CiAgICAgICAgICAgIAogICAgCiAgICAgICAgICAgIHZhciBwb3B1cF8zYTk3MTQ5NzI4YmI0YzIzYjdmZjhmYzQ3ZDNiNWQzOSA9IEwucG9wdXAoe21heFdpZHRoOiAnMTAwJScKICAgICAgICAgICAgCiAgICAgICAgICAgIH0pOwoKICAgICAgICAgICAgCiAgICAgICAgICAgICAgICB2YXIgaHRtbF85NDdiNTJiYzMyZjU0MTVlOTM2N2QzOTlkZGVlNTIwNyA9ICQoYDxkaXYgaWQ9Imh0bWxfOTQ3YjUyYmMzMmY1NDE1ZTkzNjdkMzk5ZGRlZTUyMDciIHN0eWxlPSJ3aWR0aDogMTAwLjAlOyBoZWlnaHQ6IDEwMC4wJTsiPlRoZSBCZWFjaGVzIFdlc3QsSW5kaWEgQmF6YWFyPC9kaXY+YClbMF07CiAgICAgICAgICAgICAgICBwb3B1cF8zYTk3MTQ5NzI4YmI0YzIzYjdmZjhmYzQ3ZDNiNWQzOS5zZXRDb250ZW50KGh0bWxfOTQ3YjUyYmMzMmY1NDE1ZTkzNjdkMzk5ZGRlZTUyMDcpOwogICAgICAgICAgICAKCiAgICAgICAgICAgIGNpcmNsZV9tYXJrZXJfZjgzNDUwODcxOWIwNGI5MDg4YzY2ZmYxMzNjZmQ5ZTcuYmluZFBvcHVwKHBvcHVwXzNhOTcxNDk3MjhiYjRjMjNiN2ZmOGZjNDdkM2I1ZDM5KQogICAgICAgICAgICA7CgogICAgICAgICAgICAKICAgICAgICAKICAgIAogICAgICAgICAgICB2YXIgY2lyY2xlX21hcmtlcl9kMmEyYTAwMGUwMzU0ZWMwYTg5YzRmMzU3NmViOTdlMCA9IEwuY2lyY2xlTWFya2VyKAogICAgICAgICAgICAgICAgWzQzLjY1OTUyNTUsIC03OS4zNDA5MjNdLAogICAgICAgICAgICAgICAgewogICJidWJibGluZ01vdXNlRXZlbnRzIjogdHJ1ZSwKICAiY29sb3IiOiAiYmx1ZSIsCiAgImRhc2hBcnJheSI6IG51bGwsCiAgImRhc2hPZmZzZXQiOiBudWxsLAogICJmaWxsIjogdHJ1ZSwKICAiZmlsbENvbG9yIjogIiMzMTg2Y2MiLAogICJmaWxsT3BhY2l0eSI6IDAuNywKICAiZmlsbFJ1bGUiOiAiZXZlbm9kZCIsCiAgImxpbmVDYXAiOiAicm91bmQiLAogICJsaW5lSm9pbiI6ICJyb3VuZCIsCiAgIm9wYWNpdHkiOiAxLjAsCiAgInJhZGl1cyI6IDUsCiAgInN0cm9rZSI6IHRydWUsCiAgIndlaWdodCI6IDMKfQogICAgICAgICAgICAgICAgKQogICAgICAgICAgICAgICAgLmFkZFRvKG1hcF81MDExNDQ3ZmViNDk0ZDQwOWVmMDlmYjZmMTViZTI0Yyk7CiAgICAgICAgICAgIAogICAgCiAgICAgICAgICAgIHZhciBwb3B1cF8xZWY5ZmE4ODg0ZDA0ZDdmYTUxODMzNTQ5MjYwMTdmYiA9IEwucG9wdXAoe21heFdpZHRoOiAnMTAwJScKICAgICAgICAgICAgCiAgICAgICAgICAgIH0pOwoKICAgICAgICAgICAgCiAgICAgICAgICAgICAgICB2YXIgaHRtbF85ZGU2ZDM0ZTAyNTM0NTU2YTEzNzE3ZjkyZjRlMzQyOSA9ICQoYDxkaXYgaWQ9Imh0bWxfOWRlNmQzNGUwMjUzNDU1NmExMzcxN2Y5MmY0ZTM0MjkiIHN0eWxlPSJ3aWR0aDogMTAwLjAlOyBoZWlnaHQ6IDEwMC4wJTsiPlN0dWRpbyBEaXN0cmljdDwvZGl2PmApWzBdOwogICAgICAgICAgICAgICAgcG9wdXBfMWVmOWZhODg4NGQwNGQ3ZmE1MTgzMzU0OTI2MDE3ZmIuc2V0Q29udGVudChodG1sXzlkZTZkMzRlMDI1MzQ1NTZhMTM3MTdmOTJmNGUzNDI5KTsKICAgICAgICAgICAgCgogICAgICAgICAgICBjaXJjbGVfbWFya2VyX2QyYTJhMDAwZTAzNTRlYzBhODljNGYzNTc2ZWI5N2UwLmJpbmRQb3B1cChwb3B1cF8xZWY5ZmE4ODg0ZDA0ZDdmYTUxODMzNTQ5MjYwMTdmYikKICAgICAgICAgICAgOwoKICAgICAgICAgICAgCiAgICAgICAgCiAgICAKICAgICAgICAgICAgdmFyIGNpcmNsZV9tYXJrZXJfN2YzOTVlZjcwOGY5NDU0Mzk3NzdmMjljZmJiNWE0YzUgPSBMLmNpcmNsZU1hcmtlcigKICAgICAgICAgICAgICAgIFs0My43MjgwMjA1LCAtNzkuMzg4NzkwMV0sCiAgICAgICAgICAgICAgICB7CiAgImJ1YmJsaW5nTW91c2VFdmVudHMiOiB0cnVlLAogICJjb2xvciI6ICJibHVlIiwKICAiZGFzaEFycmF5IjogbnVsbCwKICAiZGFzaE9mZnNldCI6IG51bGwsCiAgImZpbGwiOiB0cnVlLAogICJmaWxsQ29sb3IiOiAiIzMxODZjYyIsCiAgImZpbGxPcGFjaXR5IjogMC43LAogICJmaWxsUnVsZSI6ICJldmVub2RkIiwKICAibGluZUNhcCI6ICJyb3VuZCIsCiAgImxpbmVKb2luIjogInJvdW5kIiwKICAib3BhY2l0eSI6IDEuMCwKICAicmFkaXVzIjogNSwKICAic3Ryb2tlIjogdHJ1ZSwKICAid2VpZ2h0IjogMwp9CiAgICAgICAgICAgICAgICApCiAgICAgICAgICAgICAgICAuYWRkVG8obWFwXzUwMTE0NDdmZWI0OTRkNDA5ZWYwOWZiNmYxNWJlMjRjKTsKICAgICAgICAgICAgCiAgICAKICAgICAgICAgICAgdmFyIHBvcHVwXzAwZWU2MWI0ZmM3MjRhMzU5ZDliY2Q4NGMxNDFkYmYwID0gTC5wb3B1cCh7bWF4V2lkdGg6ICcxMDAlJwogICAgICAgICAgICAKICAgICAgICAgICAgfSk7CgogICAgICAgICAgICAKICAgICAgICAgICAgICAgIHZhciBodG1sX2JkMDM2NGI1NTBhZTQ1NzViYTdhMzNlMWFiMDNiNDFjID0gJChgPGRpdiBpZD0iaHRtbF9iZDAzNjRiNTUwYWU0NTc1YmE3YTMzZTFhYjAzYjQxYyIgc3R5bGU9IndpZHRoOiAxMDAuMCU7IGhlaWdodDogMTAwLjAlOyI+TGF3cmVuY2UgUGFyazwvZGl2PmApWzBdOwogICAgICAgICAgICAgICAgcG9wdXBfMDBlZTYxYjRmYzcyNGEzNTlkOWJjZDg0YzE0MWRiZjAuc2V0Q29udGVudChodG1sX2JkMDM2NGI1NTBhZTQ1NzViYTdhMzNlMWFiMDNiNDFjKTsKICAgICAgICAgICAgCgogICAgICAgICAgICBjaXJjbGVfbWFya2VyXzdmMzk1ZWY3MDhmOTQ1NDM5Nzc3ZjI5Y2ZiYjVhNGM1LmJpbmRQb3B1cChwb3B1cF8wMGVlNjFiNGZjNzI0YTM1OWQ5YmNkODRjMTQxZGJmMCkKICAgICAgICAgICAgOwoKICAgICAgICAgICAgCiAgICAgICAgCiAgICAKICAgICAgICAgICAgdmFyIGNpcmNsZV9tYXJrZXJfOGY4NzZiNDYzNWViNDEyNWFiZGNkMTRjMWY4Mzk2M2EgPSBMLmNpcmNsZU1hcmtlcigKICAgICAgICAgICAgICAgIFs0My43MTI3NTExLCAtNzkuMzkwMTk3NV0sCiAgICAgICAgICAgICAgICB7CiAgImJ1YmJsaW5nTW91c2VFdmVudHMiOiB0cnVlLAogICJjb2xvciI6ICJibHVlIiwKICAiZGFzaEFycmF5IjogbnVsbCwKICAiZGFzaE9mZnNldCI6IG51bGwsCiAgImZpbGwiOiB0cnVlLAogICJmaWxsQ29sb3IiOiAiIzMxODZjYyIsCiAgImZpbGxPcGFjaXR5IjogMC43LAogICJmaWxsUnVsZSI6ICJldmVub2RkIiwKICAibGluZUNhcCI6ICJyb3VuZCIsCiAgImxpbmVKb2luIjogInJvdW5kIiwKICAib3BhY2l0eSI6IDEuMCwKICAicmFkaXVzIjogNSwKICAic3Ryb2tlIjogdHJ1ZSwKICAid2VpZ2h0IjogMwp9CiAgICAgICAgICAgICAgICApCiAgICAgICAgICAgICAgICAuYWRkVG8obWFwXzUwMTE0NDdmZWI0OTRkNDA5ZWYwOWZiNmYxNWJlMjRjKTsKICAgICAgICAgICAgCiAgICAKICAgICAgICAgICAgdmFyIHBvcHVwXzlhNTg5ODUyNThkMDQ1OGE4MWMwZGExZmE0ZmU3Mzg1ID0gTC5wb3B1cCh7bWF4V2lkdGg6ICcxMDAlJwogICAgICAgICAgICAKICAgICAgICAgICAgfSk7CgogICAgICAgICAgICAKICAgICAgICAgICAgICAgIHZhciBodG1sX2M4YjQxMTY4ZWY2NjQzODNhZGUxNTkxZjY4ZjFiY2RjID0gJChgPGRpdiBpZD0iaHRtbF9jOGI0MTE2OGVmNjY0MzgzYWRlMTU5MWY2OGYxYmNkYyIgc3R5bGU9IndpZHRoOiAxMDAuMCU7IGhlaWdodDogMTAwLjAlOyI+RGF2aXN2aWxsZSBOb3J0aDwvZGl2PmApWzBdOwogICAgICAgICAgICAgICAgcG9wdXBfOWE1ODk4NTI1OGQwNDU4YTgxYzBkYTFmYTRmZTczODUuc2V0Q29udGVudChodG1sX2M4YjQxMTY4ZWY2NjQzODNhZGUxNTkxZjY4ZjFiY2RjKTsKICAgICAgICAgICAgCgogICAgICAgICAgICBjaXJjbGVfbWFya2VyXzhmODc2YjQ2MzVlYjQxMjVhYmRjZDE0YzFmODM5NjNhLmJpbmRQb3B1cChwb3B1cF85YTU4OTg1MjU4ZDA0NThhODFjMGRhMWZhNGZlNzM4NSkKICAgICAgICAgICAgOwoKICAgICAgICAgICAgCiAgICAgICAgCiAgICAKICAgICAgICAgICAgdmFyIGNpcmNsZV9tYXJrZXJfZDIwNTkwNjE4ZDJjNDAwZDliYTIyY2YzNDA0ZjJiMWYgPSBMLmNpcmNsZU1hcmtlcigKICAgICAgICAgICAgICAgIFs0My43MTUzODM0LCAtNzkuNDA1Njc4NDAwMDAwMDFdLAogICAgICAgICAgICAgICAgewogICJidWJibGluZ01vdXNlRXZlbnRzIjogdHJ1ZSwKICAiY29sb3IiOiAiYmx1ZSIsCiAgImRhc2hBcnJheSI6IG51bGwsCiAgImRhc2hPZmZzZXQiOiBudWxsLAogICJmaWxsIjogdHJ1ZSwKICAiZmlsbENvbG9yIjogIiMzMTg2Y2MiLAogICJmaWxsT3BhY2l0eSI6IDAuNywKICAiZmlsbFJ1bGUiOiAiZXZlbm9kZCIsCiAgImxpbmVDYXAiOiAicm91bmQiLAogICJsaW5lSm9pbiI6ICJyb3VuZCIsCiAgIm9wYWNpdHkiOiAxLjAsCiAgInJhZGl1cyI6IDUsCiAgInN0cm9rZSI6IHRydWUsCiAgIndlaWdodCI6IDMKfQogICAgICAgICAgICAgICAgKQogICAgICAgICAgICAgICAgLmFkZFRvKG1hcF81MDExNDQ3ZmViNDk0ZDQwOWVmMDlmYjZmMTViZTI0Yyk7CiAgICAgICAgICAgIAogICAgCiAgICAgICAgICAgIHZhciBwb3B1cF81ZDY0MGY3Y2QxZDU0YTQzYmYxODc5NTRkN2Y4ZGVmZSA9IEwucG9wdXAoe21heFdpZHRoOiAnMTAwJScKICAgICAgICAgICAgCiAgICAgICAgICAgIH0pOwoKICAgICAgICAgICAgCiAgICAgICAgICAgICAgICB2YXIgaHRtbF8yYjc2NTIyYzk0NDY0YTAwOGRiMTFmMjc3MThiYzAwNCA9ICQoYDxkaXYgaWQ9Imh0bWxfMmI3NjUyMmM5NDQ2NGEwMDhkYjExZjI3NzE4YmMwMDQiIHN0eWxlPSJ3aWR0aDogMTAwLjAlOyBoZWlnaHQ6IDEwMC4wJTsiPk5vcnRoIFRvcm9udG8gV2VzdDwvZGl2PmApWzBdOwogICAgICAgICAgICAgICAgcG9wdXBfNWQ2NDBmN2NkMWQ1NGE0M2JmMTg3OTU0ZDdmOGRlZmUuc2V0Q29udGVudChodG1sXzJiNzY1MjJjOTQ0NjRhMDA4ZGIxMWYyNzcxOGJjMDA0KTsKICAgICAgICAgICAgCgogICAgICAgICAgICBjaXJjbGVfbWFya2VyX2QyMDU5MDYxOGQyYzQwMGQ5YmEyMmNmMzQwNGYyYjFmLmJpbmRQb3B1cChwb3B1cF81ZDY0MGY3Y2QxZDU0YTQzYmYxODc5NTRkN2Y4ZGVmZSkKICAgICAgICAgICAgOwoKICAgICAgICAgICAgCiAgICAgICAgCiAgICAKICAgICAgICAgICAgdmFyIGNpcmNsZV9tYXJrZXJfYTM2MGNhMTZjMDA0NDUyOWE5YWZiMGEwY2NjMjY5ODEgPSBMLmNpcmNsZU1hcmtlcigKICAgICAgICAgICAgICAgIFs0My43MDQzMjQ0LCAtNzkuMzg4NzkwMV0sCiAgICAgICAgICAgICAgICB7CiAgImJ1YmJsaW5nTW91c2VFdmVudHMiOiB0cnVlLAogICJjb2xvciI6ICJibHVlIiwKICAiZGFzaEFycmF5IjogbnVsbCwKICAiZGFzaE9mZnNldCI6IG51bGwsCiAgImZpbGwiOiB0cnVlLAogICJmaWxsQ29sb3IiOiAiIzMxODZjYyIsCiAgImZpbGxPcGFjaXR5IjogMC43LAogICJmaWxsUnVsZSI6ICJldmVub2RkIiwKICAibGluZUNhcCI6ICJyb3VuZCIsCiAgImxpbmVKb2luIjogInJvdW5kIiwKICAib3BhY2l0eSI6IDEuMCwKICAicmFkaXVzIjogNSwKICAic3Ryb2tlIjogdHJ1ZSwKICAid2VpZ2h0IjogMwp9CiAgICAgICAgICAgICAgICApCiAgICAgICAgICAgICAgICAuYWRkVG8obWFwXzUwMTE0NDdmZWI0OTRkNDA5ZWYwOWZiNmYxNWJlMjRjKTsKICAgICAgICAgICAgCiAgICAKICAgICAgICAgICAgdmFyIHBvcHVwXzFlOTllZjMyOTY2ZTQ4N2M4Mzg5ZmExYTkwMDllYTExID0gTC5wb3B1cCh7bWF4V2lkdGg6ICcxMDAlJwogICAgICAgICAgICAKICAgICAgICAgICAgfSk7CgogICAgICAgICAgICAKICAgICAgICAgICAgICAgIHZhciBodG1sX2IyM2ZkYjI2YWUwMDRiNzE4MDYzZTg2MDAxMTNjOWUyID0gJChgPGRpdiBpZD0iaHRtbF9iMjNmZGIyNmFlMDA0YjcxODA2M2U4NjAwMTEzYzllMiIgc3R5bGU9IndpZHRoOiAxMDAuMCU7IGhlaWdodDogMTAwLjAlOyI+RGF2aXN2aWxsZTwvZGl2PmApWzBdOwogICAgICAgICAgICAgICAgcG9wdXBfMWU5OWVmMzI5NjZlNDg3YzgzODlmYTFhOTAwOWVhMTEuc2V0Q29udGVudChodG1sX2IyM2ZkYjI2YWUwMDRiNzE4MDYzZTg2MDAxMTNjOWUyKTsKICAgICAgICAgICAgCgogICAgICAgICAgICBjaXJjbGVfbWFya2VyX2EzNjBjYTE2YzAwNDQ1MjlhOWFmYjBhMGNjYzI2OTgxLmJpbmRQb3B1cChwb3B1cF8xZTk5ZWYzMjk2NmU0ODdjODM4OWZhMWE5MDA5ZWExMSkKICAgICAgICAgICAgOwoKICAgICAgICAgICAgCiAgICAgICAgCiAgICAKICAgICAgICAgICAgdmFyIGNpcmNsZV9tYXJrZXJfYWE2N2U0ZjI1ODcyNGYwMmFjYzhlOTkyYjM5NmMyZTAgPSBMLmNpcmNsZU1hcmtlcigKICAgICAgICAgICAgICAgIFs0My42ODk1NzQzLCAtNzkuMzgzMTU5OTAwMDAwMDFdLAogICAgICAgICAgICAgICAgewogICJidWJibGluZ01vdXNlRXZlbnRzIjogdHJ1ZSwKICAiY29sb3IiOiAiYmx1ZSIsCiAgImRhc2hBcnJheSI6IG51bGwsCiAgImRhc2hPZmZzZXQiOiBudWxsLAogICJmaWxsIjogdHJ1ZSwKICAiZmlsbENvbG9yIjogIiMzMTg2Y2MiLAogICJmaWxsT3BhY2l0eSI6IDAuNywKICAiZmlsbFJ1bGUiOiAiZXZlbm9kZCIsCiAgImxpbmVDYXAiOiAicm91bmQiLAogICJsaW5lSm9pbiI6ICJyb3VuZCIsCiAgIm9wYWNpdHkiOiAxLjAsCiAgInJhZGl1cyI6IDUsCiAgInN0cm9rZSI6IHRydWUsCiAgIndlaWdodCI6IDMKfQogICAgICAgICAgICAgICAgKQogICAgICAgICAgICAgICAgLmFkZFRvKG1hcF81MDExNDQ3ZmViNDk0ZDQwOWVmMDlmYjZmMTViZTI0Yyk7CiAgICAgICAgICAgIAogICAgCiAgICAgICAgICAgIHZhciBwb3B1cF84MTgxMTY5ZjRkMDM0OWRkOTI3YjFlMjE1MThlZmJhZCA9IEwucG9wdXAoe21heFdpZHRoOiAnMTAwJScKICAgICAgICAgICAgCiAgICAgICAgICAgIH0pOwoKICAgICAgICAgICAgCiAgICAgICAgICAgICAgICB2YXIgaHRtbF9mNjdiNzhkYzhkZmI0MWU5YmQwZGFhNmFiMWNjNDE3YyA9ICQoYDxkaXYgaWQ9Imh0bWxfZjY3Yjc4ZGM4ZGZiNDFlOWJkMGRhYTZhYjFjYzQxN2MiIHN0eWxlPSJ3aWR0aDogMTAwLjAlOyBoZWlnaHQ6IDEwMC4wJTsiPk1vb3JlIFBhcmssU3VtbWVyaGlsbCBFYXN0PC9kaXY+YClbMF07CiAgICAgICAgICAgICAgICBwb3B1cF84MTgxMTY5ZjRkMDM0OWRkOTI3YjFlMjE1MThlZmJhZC5zZXRDb250ZW50KGh0bWxfZjY3Yjc4ZGM4ZGZiNDFlOWJkMGRhYTZhYjFjYzQxN2MpOwogICAgICAgICAgICAKCiAgICAgICAgICAgIGNpcmNsZV9tYXJrZXJfYWE2N2U0ZjI1ODcyNGYwMmFjYzhlOTkyYjM5NmMyZTAuYmluZFBvcHVwKHBvcHVwXzgxODExNjlmNGQwMzQ5ZGQ5MjdiMWUyMTUxOGVmYmFkKQogICAgICAgICAgICA7CgogICAgICAgICAgICAKICAgICAgICAKICAgIAogICAgICAgICAgICB2YXIgY2lyY2xlX21hcmtlcl83YTlmOWJjMTgyODA0OGZjODgyNDc0MTAzYWM0ZmQwYyA9IEwuY2lyY2xlTWFya2VyKAogICAgICAgICAgICAgICAgWzQzLjY4NjQxMjI5OTk5OTk5LCAtNzkuNDAwMDQ5M10sCiAgICAgICAgICAgICAgICB7CiAgImJ1YmJsaW5nTW91c2VFdmVudHMiOiB0cnVlLAogICJjb2xvciI6ICJibHVlIiwKICAiZGFzaEFycmF5IjogbnVsbCwKICAiZGFzaE9mZnNldCI6IG51bGwsCiAgImZpbGwiOiB0cnVlLAogICJmaWxsQ29sb3IiOiAiIzMxODZjYyIsCiAgImZpbGxPcGFjaXR5IjogMC43LAogICJmaWxsUnVsZSI6ICJldmVub2RkIiwKICAibGluZUNhcCI6ICJyb3VuZCIsCiAgImxpbmVKb2luIjogInJvdW5kIiwKICAib3BhY2l0eSI6IDEuMCwKICAicmFkaXVzIjogNSwKICAic3Ryb2tlIjogdHJ1ZSwKICAid2VpZ2h0IjogMwp9CiAgICAgICAgICAgICAgICApCiAgICAgICAgICAgICAgICAuYWRkVG8obWFwXzUwMTE0NDdmZWI0OTRkNDA5ZWYwOWZiNmYxNWJlMjRjKTsKICAgICAgICAgICAgCiAgICAKICAgICAgICAgICAgdmFyIHBvcHVwX2UwNjA3MzQyYjRlMzRlMGQ5NmVkYjk5OGMwYmNhOGYwID0gTC5wb3B1cCh7bWF4V2lkdGg6ICcxMDAlJwogICAgICAgICAgICAKICAgICAgICAgICAgfSk7CgogICAgICAgICAgICAKICAgICAgICAgICAgICAgIHZhciBodG1sXzM1YzhkY2FiM2NkMTQ3YmM4MzU0YzA1MGI4ZWU1NTg4ID0gJChgPGRpdiBpZD0iaHRtbF8zNWM4ZGNhYjNjZDE0N2JjODM1NGMwNTBiOGVlNTU4OCIgc3R5bGU9IndpZHRoOiAxMDAuMCU7IGhlaWdodDogMTAwLjAlOyI+RGVlciBQYXJrLEZvcmVzdCBIaWxsIFNFLFJhdGhuZWxseSxTb3V0aCBIaWxsLFN1bW1lcmhpbGwgV2VzdDwvZGl2PmApWzBdOwogICAgICAgICAgICAgICAgcG9wdXBfZTA2MDczNDJiNGUzNGUwZDk2ZWRiOTk4YzBiY2E4ZjAuc2V0Q29udGVudChodG1sXzM1YzhkY2FiM2NkMTQ3YmM4MzU0YzA1MGI4ZWU1NTg4KTsKICAgICAgICAgICAgCgogICAgICAgICAgICBjaXJjbGVfbWFya2VyXzdhOWY5YmMxODI4MDQ4ZmM4ODI0NzQxMDNhYzRmZDBjLmJpbmRQb3B1cChwb3B1cF9lMDYwNzM0MmI0ZTM0ZTBkOTZlZGI5OThjMGJjYThmMCkKICAgICAgICAgICAgOwoKICAgICAgICAgICAgCiAgICAgICAgCiAgICAKICAgICAgICAgICAgdmFyIGNpcmNsZV9tYXJrZXJfN2NkMThlM2U3MGViNDM3YzkyOGQ2ZWUyN2QzZjdlOGEgPSBMLmNpcmNsZU1hcmtlcigKICAgICAgICAgICAgICAgIFs0My42Nzk1NjI2LCAtNzkuMzc3NTI5NDAwMDAwMDFdLAogICAgICAgICAgICAgICAgewogICJidWJibGluZ01vdXNlRXZlbnRzIjogdHJ1ZSwKICAiY29sb3IiOiAiYmx1ZSIsCiAgImRhc2hBcnJheSI6IG51bGwsCiAgImRhc2hPZmZzZXQiOiBudWxsLAogICJmaWxsIjogdHJ1ZSwKICAiZmlsbENvbG9yIjogIiMzMTg2Y2MiLAogICJmaWxsT3BhY2l0eSI6IDAuNywKICAiZmlsbFJ1bGUiOiAiZXZlbm9kZCIsCiAgImxpbmVDYXAiOiAicm91bmQiLAogICJsaW5lSm9pbiI6ICJyb3VuZCIsCiAgIm9wYWNpdHkiOiAxLjAsCiAgInJhZGl1cyI6IDUsCiAgInN0cm9rZSI6IHRydWUsCiAgIndlaWdodCI6IDMKfQogICAgICAgICAgICAgICAgKQogICAgICAgICAgICAgICAgLmFkZFRvKG1hcF81MDExNDQ3ZmViNDk0ZDQwOWVmMDlmYjZmMTViZTI0Yyk7CiAgICAgICAgICAgIAogICAgCiAgICAgICAgICAgIHZhciBwb3B1cF8xZDFjNjRjOGI2YzA0ODFhYmM4MjY0OTJmMzdiNWY3YyA9IEwucG9wdXAoe21heFdpZHRoOiAnMTAwJScKICAgICAgICAgICAgCiAgICAgICAgICAgIH0pOwoKICAgICAgICAgICAgCiAgICAgICAgICAgICAgICB2YXIgaHRtbF8xMzg4ZjEwZTc3MjI0ZDMyOTM2NDkyOGRiOTY0YTVhZCA9ICQoYDxkaXYgaWQ9Imh0bWxfMTM4OGYxMGU3NzIyNGQzMjkzNjQ5MjhkYjk2NGE1YWQiIHN0eWxlPSJ3aWR0aDogMTAwLjAlOyBoZWlnaHQ6IDEwMC4wJTsiPlJvc2VkYWxlPC9kaXY+YClbMF07CiAgICAgICAgICAgICAgICBwb3B1cF8xZDFjNjRjOGI2YzA0ODFhYmM4MjY0OTJmMzdiNWY3Yy5zZXRDb250ZW50KGh0bWxfMTM4OGYxMGU3NzIyNGQzMjkzNjQ5MjhkYjk2NGE1YWQpOwogICAgICAgICAgICAKCiAgICAgICAgICAgIGNpcmNsZV9tYXJrZXJfN2NkMThlM2U3MGViNDM3YzkyOGQ2ZWUyN2QzZjdlOGEuYmluZFBvcHVwKHBvcHVwXzFkMWM2NGM4YjZjMDQ4MWFiYzgyNjQ5MmYzN2I1ZjdjKQogICAgICAgICAgICA7CgogICAgICAgICAgICAKICAgICAgICAKICAgIAogICAgICAgICAgICB2YXIgY2lyY2xlX21hcmtlcl9lZTYyYTI0OTk3Y2Q0NzA2ODc2MzY2ZTE2Njk2N2IwMCA9IEwuY2lyY2xlTWFya2VyKAogICAgICAgICAgICAgICAgWzQzLjY2Nzk2NywgLTc5LjM2NzY3NTNdLAogICAgICAgICAgICAgICAgewogICJidWJibGluZ01vdXNlRXZlbnRzIjogdHJ1ZSwKICAiY29sb3IiOiAiYmx1ZSIsCiAgImRhc2hBcnJheSI6IG51bGwsCiAgImRhc2hPZmZzZXQiOiBudWxsLAogICJmaWxsIjogdHJ1ZSwKICAiZmlsbENvbG9yIjogIiMzMTg2Y2MiLAogICJmaWxsT3BhY2l0eSI6IDAuNywKICAiZmlsbFJ1bGUiOiAiZXZlbm9kZCIsCiAgImxpbmVDYXAiOiAicm91bmQiLAogICJsaW5lSm9pbiI6ICJyb3VuZCIsCiAgIm9wYWNpdHkiOiAxLjAsCiAgInJhZGl1cyI6IDUsCiAgInN0cm9rZSI6IHRydWUsCiAgIndlaWdodCI6IDMKfQogICAgICAgICAgICAgICAgKQogICAgICAgICAgICAgICAgLmFkZFRvKG1hcF81MDExNDQ3ZmViNDk0ZDQwOWVmMDlmYjZmMTViZTI0Yyk7CiAgICAgICAgICAgIAogICAgCiAgICAgICAgICAgIHZhciBwb3B1cF9kM2JlZTVmNmQ2NGE0OGU1OTI4ZGE2MTg1OTc1ZjA1YSA9IEwucG9wdXAoe21heFdpZHRoOiAnMTAwJScKICAgICAgICAgICAgCiAgICAgICAgICAgIH0pOwoKICAgICAgICAgICAgCiAgICAgICAgICAgICAgICB2YXIgaHRtbF9lZTc4ZGEzYTZlYjI0MGVjODdlOTk4ODljYjIyZDRkNiA9ICQoYDxkaXYgaWQ9Imh0bWxfZWU3OGRhM2E2ZWIyNDBlYzg3ZTk5ODg5Y2IyMmQ0ZDYiIHN0eWxlPSJ3aWR0aDogMTAwLjAlOyBoZWlnaHQ6IDEwMC4wJTsiPkNhYmJhZ2V0b3duLFN0LiBKYW1lcyBUb3duPC9kaXY+YClbMF07CiAgICAgICAgICAgICAgICBwb3B1cF9kM2JlZTVmNmQ2NGE0OGU1OTI4ZGE2MTg1OTc1ZjA1YS5zZXRDb250ZW50KGh0bWxfZWU3OGRhM2E2ZWIyNDBlYzg3ZTk5ODg5Y2IyMmQ0ZDYpOwogICAgICAgICAgICAKCiAgICAgICAgICAgIGNpcmNsZV9tYXJrZXJfZWU2MmEyNDk5N2NkNDcwNjg3NjM2NmUxNjY5NjdiMDAuYmluZFBvcHVwKHBvcHVwX2QzYmVlNWY2ZDY0YTQ4ZTU5MjhkYTYxODU5NzVmMDVhKQogICAgICAgICAgICA7CgogICAgICAgICAgICAKICAgICAgICAKICAgIAogICAgICAgICAgICB2YXIgY2lyY2xlX21hcmtlcl82NmQwNDk0OGEyYWI0OTRhYmQyYmMzMzFkMGUyN2M5NiA9IEwuY2lyY2xlTWFya2VyKAogICAgICAgICAgICAgICAgWzQzLjY2NTg1OTksIC03OS4zODMxNTk5MDAwMDAwMV0sCiAgICAgICAgICAgICAgICB7CiAgImJ1YmJsaW5nTW91c2VFdmVudHMiOiB0cnVlLAogICJjb2xvciI6ICJibHVlIiwKICAiZGFzaEFycmF5IjogbnVsbCwKICAiZGFzaE9mZnNldCI6IG51bGwsCiAgImZpbGwiOiB0cnVlLAogICJmaWxsQ29sb3IiOiAiIzMxODZjYyIsCiAgImZpbGxPcGFjaXR5IjogMC43LAogICJmaWxsUnVsZSI6ICJldmVub2RkIiwKICAibGluZUNhcCI6ICJyb3VuZCIsCiAgImxpbmVKb2luIjogInJvdW5kIiwKICAib3BhY2l0eSI6IDEuMCwKICAicmFkaXVzIjogNSwKICAic3Ryb2tlIjogdHJ1ZSwKICAid2VpZ2h0IjogMwp9CiAgICAgICAgICAgICAgICApCiAgICAgICAgICAgICAgICAuYWRkVG8obWFwXzUwMTE0NDdmZWI0OTRkNDA5ZWYwOWZiNmYxNWJlMjRjKTsKICAgICAgICAgICAgCiAgICAKICAgICAgICAgICAgdmFyIHBvcHVwX2Q2MWQ0NWI5MGIzNzRkMDc4MWNjY2U5MjE2ODM3MTIzID0gTC5wb3B1cCh7bWF4V2lkdGg6ICcxMDAlJwogICAgICAgICAgICAKICAgICAgICAgICAgfSk7CgogICAgICAgICAgICAKICAgICAgICAgICAgICAgIHZhciBodG1sXzA4NTljZDFmOThlMzQwMzI5Yjc5MmFhNmZiZjRlMzA4ID0gJChgPGRpdiBpZD0iaHRtbF8wODU5Y2QxZjk4ZTM0MDMyOWI3OTJhYTZmYmY0ZTMwOCIgc3R5bGU9IndpZHRoOiAxMDAuMCU7IGhlaWdodDogMTAwLjAlOyI+Q2h1cmNoIGFuZCBXZWxsZXNsZXk8L2Rpdj5gKVswXTsKICAgICAgICAgICAgICAgIHBvcHVwX2Q2MWQ0NWI5MGIzNzRkMDc4MWNjY2U5MjE2ODM3MTIzLnNldENvbnRlbnQoaHRtbF8wODU5Y2QxZjk4ZTM0MDMyOWI3OTJhYTZmYmY0ZTMwOCk7CiAgICAgICAgICAgIAoKICAgICAgICAgICAgY2lyY2xlX21hcmtlcl82NmQwNDk0OGEyYWI0OTRhYmQyYmMzMzFkMGUyN2M5Ni5iaW5kUG9wdXAocG9wdXBfZDYxZDQ1YjkwYjM3NGQwNzgxY2NjZTkyMTY4MzcxMjMpCiAgICAgICAgICAgIDsKCiAgICAgICAgICAgIAogICAgICAgIAogICAgCiAgICAgICAgICAgIHZhciBjaXJjbGVfbWFya2VyXzg1Y2NkOTc4ZTJmYTQ1ZWJhMmNkMzBiZGRiODliMmFiID0gTC5jaXJjbGVNYXJrZXIoCiAgICAgICAgICAgICAgICBbNDMuNjU0MjU5OSwgLTc5LjM2MDYzNTldLAogICAgICAgICAgICAgICAgewogICJidWJibGluZ01vdXNlRXZlbnRzIjogdHJ1ZSwKICAiY29sb3IiOiAiYmx1ZSIsCiAgImRhc2hBcnJheSI6IG51bGwsCiAgImRhc2hPZmZzZXQiOiBudWxsLAogICJmaWxsIjogdHJ1ZSwKICAiZmlsbENvbG9yIjogIiMzMTg2Y2MiLAogICJmaWxsT3BhY2l0eSI6IDAuNywKICAiZmlsbFJ1bGUiOiAiZXZlbm9kZCIsCiAgImxpbmVDYXAiOiAicm91bmQiLAogICJsaW5lSm9pbiI6ICJyb3VuZCIsCiAgIm9wYWNpdHkiOiAxLjAsCiAgInJhZGl1cyI6IDUsCiAgInN0cm9rZSI6IHRydWUsCiAgIndlaWdodCI6IDMKfQogICAgICAgICAgICAgICAgKQogICAgICAgICAgICAgICAgLmFkZFRvKG1hcF81MDExNDQ3ZmViNDk0ZDQwOWVmMDlmYjZmMTViZTI0Yyk7CiAgICAgICAgICAgIAogICAgCiAgICAgICAgICAgIHZhciBwb3B1cF9iMTcyZDc3N2E2ZWU0M2M0OGY3NTM0N2Q4NmZkNjI0ZSA9IEwucG9wdXAoe21heFdpZHRoOiAnMTAwJScKICAgICAgICAgICAgCiAgICAgICAgICAgIH0pOwoKICAgICAgICAgICAgCiAgICAgICAgICAgICAgICB2YXIgaHRtbF84NDM5MzU0MWJjZTE0ZDJlOTZkNDliMzFjMTQ3MTM0ZiA9ICQoYDxkaXYgaWQ9Imh0bWxfODQzOTM1NDFiY2UxNGQyZTk2ZDQ5YjMxYzE0NzEzNGYiIHN0eWxlPSJ3aWR0aDogMTAwLjAlOyBoZWlnaHQ6IDEwMC4wJTsiPkhhcmJvdXJmcm9udCxSZWdlbnQgUGFyazwvZGl2PmApWzBdOwogICAgICAgICAgICAgICAgcG9wdXBfYjE3MmQ3NzdhNmVlNDNjNDhmNzUzNDdkODZmZDYyNGUuc2V0Q29udGVudChodG1sXzg0MzkzNTQxYmNlMTRkMmU5NmQ0OWIzMWMxNDcxMzRmKTsKICAgICAgICAgICAgCgogICAgICAgICAgICBjaXJjbGVfbWFya2VyXzg1Y2NkOTc4ZTJmYTQ1ZWJhMmNkMzBiZGRiODliMmFiLmJpbmRQb3B1cChwb3B1cF9iMTcyZDc3N2E2ZWU0M2M0OGY3NTM0N2Q4NmZkNjI0ZSkKICAgICAgICAgICAgOwoKICAgICAgICAgICAgCiAgICAgICAgCiAgICAKICAgICAgICAgICAgdmFyIGNpcmNsZV9tYXJrZXJfMGY1MzM1ZWE5YThiNDYzMGJjYTc4OGRlZTQ1YzdjNzQgPSBMLmNpcmNsZU1hcmtlcigKICAgICAgICAgICAgICAgIFs0My42NTcxNjE4LCAtNzkuMzc4OTM3MDk5OTk5OTldLAogICAgICAgICAgICAgICAgewogICJidWJibGluZ01vdXNlRXZlbnRzIjogdHJ1ZSwKICAiY29sb3IiOiAiYmx1ZSIsCiAgImRhc2hBcnJheSI6IG51bGwsCiAgImRhc2hPZmZzZXQiOiBudWxsLAogICJmaWxsIjogdHJ1ZSwKICAiZmlsbENvbG9yIjogIiMzMTg2Y2MiLAogICJmaWxsT3BhY2l0eSI6IDAuNywKICAiZmlsbFJ1bGUiOiAiZXZlbm9kZCIsCiAgImxpbmVDYXAiOiAicm91bmQiLAogICJsaW5lSm9pbiI6ICJyb3VuZCIsCiAgIm9wYWNpdHkiOiAxLjAsCiAgInJhZGl1cyI6IDUsCiAgInN0cm9rZSI6IHRydWUsCiAgIndlaWdodCI6IDMKfQogICAgICAgICAgICAgICAgKQogICAgICAgICAgICAgICAgLmFkZFRvKG1hcF81MDExNDQ3ZmViNDk0ZDQwOWVmMDlmYjZmMTViZTI0Yyk7CiAgICAgICAgICAgIAogICAgCiAgICAgICAgICAgIHZhciBwb3B1cF82NjI0MDM3YjllY2Y0YTFiODdmNjhmYWMyOTczZjE3OSA9IEwucG9wdXAoe21heFdpZHRoOiAnMTAwJScKICAgICAgICAgICAgCiAgICAgICAgICAgIH0pOwoKICAgICAgICAgICAgCiAgICAgICAgICAgICAgICB2YXIgaHRtbF9iY2UxYzlkMmE4OGI0MzBhYTZkZTM3Mjc1N2E1NDIxMSA9ICQoYDxkaXYgaWQ9Imh0bWxfYmNlMWM5ZDJhODhiNDMwYWE2ZGUzNzI3NTdhNTQyMTEiIHN0eWxlPSJ3aWR0aDogMTAwLjAlOyBoZWlnaHQ6IDEwMC4wJTsiPlJ5ZXJzb24sR2FyZGVuIERpc3RyaWN0PC9kaXY+YClbMF07CiAgICAgICAgICAgICAgICBwb3B1cF82NjI0MDM3YjllY2Y0YTFiODdmNjhmYWMyOTczZjE3OS5zZXRDb250ZW50KGh0bWxfYmNlMWM5ZDJhODhiNDMwYWE2ZGUzNzI3NTdhNTQyMTEpOwogICAgICAgICAgICAKCiAgICAgICAgICAgIGNpcmNsZV9tYXJrZXJfMGY1MzM1ZWE5YThiNDYzMGJjYTc4OGRlZTQ1YzdjNzQuYmluZFBvcHVwKHBvcHVwXzY2MjQwMzdiOWVjZjRhMWI4N2Y2OGZhYzI5NzNmMTc5KQogICAgICAgICAgICA7CgogICAgICAgICAgICAKICAgICAgICAKICAgIAogICAgICAgICAgICB2YXIgY2lyY2xlX21hcmtlcl8zMmJlNjZmMDIyNDA0M2M1YmE0NTVlY2I3ZDFhNDY2MSA9IEwuY2lyY2xlTWFya2VyKAogICAgICAgICAgICAgICAgWzQzLjY1MTQ5MzksIC03OS4zNzU0MTc5XSwKICAgICAgICAgICAgICAgIHsKICAiYnViYmxpbmdNb3VzZUV2ZW50cyI6IHRydWUsCiAgImNvbG9yIjogImJsdWUiLAogICJkYXNoQXJyYXkiOiBudWxsLAogICJkYXNoT2Zmc2V0IjogbnVsbCwKICAiZmlsbCI6IHRydWUsCiAgImZpbGxDb2xvciI6ICIjMzE4NmNjIiwKICAiZmlsbE9wYWNpdHkiOiAwLjcsCiAgImZpbGxSdWxlIjogImV2ZW5vZGQiLAogICJsaW5lQ2FwIjogInJvdW5kIiwKICAibGluZUpvaW4iOiAicm91bmQiLAogICJvcGFjaXR5IjogMS4wLAogICJyYWRpdXMiOiA1LAogICJzdHJva2UiOiB0cnVlLAogICJ3ZWlnaHQiOiAzCn0KICAgICAgICAgICAgICAgICkKICAgICAgICAgICAgICAgIC5hZGRUbyhtYXBfNTAxMTQ0N2ZlYjQ5NGQ0MDllZjA5ZmI2ZjE1YmUyNGMpOwogICAgICAgICAgICAKICAgIAogICAgICAgICAgICB2YXIgcG9wdXBfYWY4NjM5NmQ2ZGVlNGQ2ZTg3MzgyMThkZDgzZjQ5ZWMgPSBMLnBvcHVwKHttYXhXaWR0aDogJzEwMCUnCiAgICAgICAgICAgIAogICAgICAgICAgICB9KTsKCiAgICAgICAgICAgIAogICAgICAgICAgICAgICAgdmFyIGh0bWxfZmIwMmRkZjJiNTc4NGZiYWE0N2EyODI5ZmM0MmQzZDIgPSAkKGA8ZGl2IGlkPSJodG1sX2ZiMDJkZGYyYjU3ODRmYmFhNDdhMjgyOWZjNDJkM2QyIiBzdHlsZT0id2lkdGg6IDEwMC4wJTsgaGVpZ2h0OiAxMDAuMCU7Ij5TdC4gSmFtZXMgVG93bjwvZGl2PmApWzBdOwogICAgICAgICAgICAgICAgcG9wdXBfYWY4NjM5NmQ2ZGVlNGQ2ZTg3MzgyMThkZDgzZjQ5ZWMuc2V0Q29udGVudChodG1sX2ZiMDJkZGYyYjU3ODRmYmFhNDdhMjgyOWZjNDJkM2QyKTsKICAgICAgICAgICAgCgogICAgICAgICAgICBjaXJjbGVfbWFya2VyXzMyYmU2NmYwMjI0MDQzYzViYTQ1NWVjYjdkMWE0NjYxLmJpbmRQb3B1cChwb3B1cF9hZjg2Mzk2ZDZkZWU0ZDZlODczODIxOGRkODNmNDllYykKICAgICAgICAgICAgOwoKICAgICAgICAgICAgCiAgICAgICAgCiAgICAKICAgICAgICAgICAgdmFyIGNpcmNsZV9tYXJrZXJfNmJjYTQyNjljNTI5NDg2ZDlmZWRiYzAwNDgwNTMwM2IgPSBMLmNpcmNsZU1hcmtlcigKICAgICAgICAgICAgICAgIFs0My42NDQ3NzA3OTk5OTk5OTYsIC03OS4zNzMzMDY0XSwKICAgICAgICAgICAgICAgIHsKICAiYnViYmxpbmdNb3VzZUV2ZW50cyI6IHRydWUsCiAgImNvbG9yIjogImJsdWUiLAogICJkYXNoQXJyYXkiOiBudWxsLAogICJkYXNoT2Zmc2V0IjogbnVsbCwKICAiZmlsbCI6IHRydWUsCiAgImZpbGxDb2xvciI6ICIjMzE4NmNjIiwKICAiZmlsbE9wYWNpdHkiOiAwLjcsCiAgImZpbGxSdWxlIjogImV2ZW5vZGQiLAogICJsaW5lQ2FwIjogInJvdW5kIiwKICAibGluZUpvaW4iOiAicm91bmQiLAogICJvcGFjaXR5IjogMS4wLAogICJyYWRpdXMiOiA1LAogICJzdHJva2UiOiB0cnVlLAogICJ3ZWlnaHQiOiAzCn0KICAgICAgICAgICAgICAgICkKICAgICAgICAgICAgICAgIC5hZGRUbyhtYXBfNTAxMTQ0N2ZlYjQ5NGQ0MDllZjA5ZmI2ZjE1YmUyNGMpOwogICAgICAgICAgICAKICAgIAogICAgICAgICAgICB2YXIgcG9wdXBfZGZhMmM4MDVhNGYxNDZkZDlkZGQzYmMzMDIyNjNlMTggPSBMLnBvcHVwKHttYXhXaWR0aDogJzEwMCUnCiAgICAgICAgICAgIAogICAgICAgICAgICB9KTsKCiAgICAgICAgICAgIAogICAgICAgICAgICAgICAgdmFyIGh0bWxfMjdkM2E4NGI0MTI4NDE3MmFmYWM2ZjI1NTcwYjMzMjAgPSAkKGA8ZGl2IGlkPSJodG1sXzI3ZDNhODRiNDEyODQxNzJhZmFjNmYyNTU3MGIzMzIwIiBzdHlsZT0id2lkdGg6IDEwMC4wJTsgaGVpZ2h0OiAxMDAuMCU7Ij5CZXJjenkgUGFyazwvZGl2PmApWzBdOwogICAgICAgICAgICAgICAgcG9wdXBfZGZhMmM4MDVhNGYxNDZkZDlkZGQzYmMzMDIyNjNlMTguc2V0Q29udGVudChodG1sXzI3ZDNhODRiNDEyODQxNzJhZmFjNmYyNTU3MGIzMzIwKTsKICAgICAgICAgICAgCgogICAgICAgICAgICBjaXJjbGVfbWFya2VyXzZiY2E0MjY5YzUyOTQ4NmQ5ZmVkYmMwMDQ4MDUzMDNiLmJpbmRQb3B1cChwb3B1cF9kZmEyYzgwNWE0ZjE0NmRkOWRkZDNiYzMwMjI2M2UxOCkKICAgICAgICAgICAgOwoKICAgICAgICAgICAgCiAgICAgICAgCiAgICAKICAgICAgICAgICAgdmFyIGNpcmNsZV9tYXJrZXJfZWE1YTA5ZmE2MjAwNDM4YTliZDZjNjQwOGFkMmJiN2QgPSBMLmNpcmNsZU1hcmtlcigKICAgICAgICAgICAgICAgIFs0My42NTc5NTI0LCAtNzkuMzg3MzgyNl0sCiAgICAgICAgICAgICAgICB7CiAgImJ1YmJsaW5nTW91c2VFdmVudHMiOiB0cnVlLAogICJjb2xvciI6ICJibHVlIiwKICAiZGFzaEFycmF5IjogbnVsbCwKICAiZGFzaE9mZnNldCI6IG51bGwsCiAgImZpbGwiOiB0cnVlLAogICJmaWxsQ29sb3IiOiAiIzMxODZjYyIsCiAgImZpbGxPcGFjaXR5IjogMC43LAogICJmaWxsUnVsZSI6ICJldmVub2RkIiwKICAibGluZUNhcCI6ICJyb3VuZCIsCiAgImxpbmVKb2luIjogInJvdW5kIiwKICAib3BhY2l0eSI6IDEuMCwKICAicmFkaXVzIjogNSwKICAic3Ryb2tlIjogdHJ1ZSwKICAid2VpZ2h0IjogMwp9CiAgICAgICAgICAgICAgICApCiAgICAgICAgICAgICAgICAuYWRkVG8obWFwXzUwMTE0NDdmZWI0OTRkNDA5ZWYwOWZiNmYxNWJlMjRjKTsKICAgICAgICAgICAgCiAgICAKICAgICAgICAgICAgdmFyIHBvcHVwXzhlY2I5ZmQ0YWIyZjQ2MGM4NDlhNjZlYjYyMDE1OTg5ID0gTC5wb3B1cCh7bWF4V2lkdGg6ICcxMDAlJwogICAgICAgICAgICAKICAgICAgICAgICAgfSk7CgogICAgICAgICAgICAKICAgICAgICAgICAgICAgIHZhciBodG1sX2MwMDQxYzQ4OTliNTQzMjY5NjQ3NGIyN2JlNTdiYmJhID0gJChgPGRpdiBpZD0iaHRtbF9jMDA0MWM0ODk5YjU0MzI2OTY0NzRiMjdiZTU3YmJiYSIgc3R5bGU9IndpZHRoOiAxMDAuMCU7IGhlaWdodDogMTAwLjAlOyI+Q2VudHJhbCBCYXkgU3RyZWV0PC9kaXY+YClbMF07CiAgICAgICAgICAgICAgICBwb3B1cF84ZWNiOWZkNGFiMmY0NjBjODQ5YTY2ZWI2MjAxNTk4OS5zZXRDb250ZW50KGh0bWxfYzAwNDFjNDg5OWI1NDMyNjk2NDc0YjI3YmU1N2JiYmEpOwogICAgICAgICAgICAKCiAgICAgICAgICAgIGNpcmNsZV9tYXJrZXJfZWE1YTA5ZmE2MjAwNDM4YTliZDZjNjQwOGFkMmJiN2QuYmluZFBvcHVwKHBvcHVwXzhlY2I5ZmQ0YWIyZjQ2MGM4NDlhNjZlYjYyMDE1OTg5KQogICAgICAgICAgICA7CgogICAgICAgICAgICAKICAgICAgICAKICAgIAogICAgICAgICAgICB2YXIgY2lyY2xlX21hcmtlcl9lNjAyMGI0YWY2MzI0ZGY5YTk1MmY4ZTliMTgzMDdhOSA9IEwuY2lyY2xlTWFya2VyKAogICAgICAgICAgICAgICAgWzQzLjY1MDU3MTIwMDAwMDAxLCAtNzkuMzg0NTY3NV0sCiAgICAgICAgICAgICAgICB7CiAgImJ1YmJsaW5nTW91c2VFdmVudHMiOiB0cnVlLAogICJjb2xvciI6ICJibHVlIiwKICAiZGFzaEFycmF5IjogbnVsbCwKICAiZGFzaE9mZnNldCI6IG51bGwsCiAgImZpbGwiOiB0cnVlLAogICJmaWxsQ29sb3IiOiAiIzMxODZjYyIsCiAgImZpbGxPcGFjaXR5IjogMC43LAogICJmaWxsUnVsZSI6ICJldmVub2RkIiwKICAibGluZUNhcCI6ICJyb3VuZCIsCiAgImxpbmVKb2luIjogInJvdW5kIiwKICAib3BhY2l0eSI6IDEuMCwKICAicmFkaXVzIjogNSwKICAic3Ryb2tlIjogdHJ1ZSwKICAid2VpZ2h0IjogMwp9CiAgICAgICAgICAgICAgICApCiAgICAgICAgICAgICAgICAuYWRkVG8obWFwXzUwMTE0NDdmZWI0OTRkNDA5ZWYwOWZiNmYxNWJlMjRjKTsKICAgICAgICAgICAgCiAgICAKICAgICAgICAgICAgdmFyIHBvcHVwXzI2MWZhMDlmOGFjNjRkOGNhYTk4Y2E1NGFkMDE3NzFkID0gTC5wb3B1cCh7bWF4V2lkdGg6ICcxMDAlJwogICAgICAgICAgICAKICAgICAgICAgICAgfSk7CgogICAgICAgICAgICAKICAgICAgICAgICAgICAgIHZhciBodG1sX2Y1MTgzNjJjMGNhYTQzNzhiNTJjZWVhZDU3NTIzYmMxID0gJChgPGRpdiBpZD0iaHRtbF9mNTE4MzYyYzBjYWE0Mzc4YjUyY2VlYWQ1NzUyM2JjMSIgc3R5bGU9IndpZHRoOiAxMDAuMCU7IGhlaWdodDogMTAwLjAlOyI+QWRlbGFpZGUsS2luZyxSaWNobW9uZDwvZGl2PmApWzBdOwogICAgICAgICAgICAgICAgcG9wdXBfMjYxZmEwOWY4YWM2NGQ4Y2FhOThjYTU0YWQwMTc3MWQuc2V0Q29udGVudChodG1sX2Y1MTgzNjJjMGNhYTQzNzhiNTJjZWVhZDU3NTIzYmMxKTsKICAgICAgICAgICAgCgogICAgICAgICAgICBjaXJjbGVfbWFya2VyX2U2MDIwYjRhZjYzMjRkZjlhOTUyZjhlOWIxODMwN2E5LmJpbmRQb3B1cChwb3B1cF8yNjFmYTA5ZjhhYzY0ZDhjYWE5OGNhNTRhZDAxNzcxZCkKICAgICAgICAgICAgOwoKICAgICAgICAgICAgCiAgICAgICAgCiAgICAKICAgICAgICAgICAgdmFyIGNpcmNsZV9tYXJrZXJfZTcyMWI3MWE2MDgzNDE4NmE0MzEzYzhkYjg1N2Y1MDQgPSBMLmNpcmNsZU1hcmtlcigKICAgICAgICAgICAgICAgIFs0My42NDA4MTU3LCAtNzkuMzgxNzUyMjk5OTk5OTldLAogICAgICAgICAgICAgICAgewogICJidWJibGluZ01vdXNlRXZlbnRzIjogdHJ1ZSwKICAiY29sb3IiOiAiYmx1ZSIsCiAgImRhc2hBcnJheSI6IG51bGwsCiAgImRhc2hPZmZzZXQiOiBudWxsLAogICJmaWxsIjogdHJ1ZSwKICAiZmlsbENvbG9yIjogIiMzMTg2Y2MiLAogICJmaWxsT3BhY2l0eSI6IDAuNywKICAiZmlsbFJ1bGUiOiAiZXZlbm9kZCIsCiAgImxpbmVDYXAiOiAicm91bmQiLAogICJsaW5lSm9pbiI6ICJyb3VuZCIsCiAgIm9wYWNpdHkiOiAxLjAsCiAgInJhZGl1cyI6IDUsCiAgInN0cm9rZSI6IHRydWUsCiAgIndlaWdodCI6IDMKfQogICAgICAgICAgICAgICAgKQogICAgICAgICAgICAgICAgLmFkZFRvKG1hcF81MDExNDQ3ZmViNDk0ZDQwOWVmMDlmYjZmMTViZTI0Yyk7CiAgICAgICAgICAgIAogICAgCiAgICAgICAgICAgIHZhciBwb3B1cF9jN2U0MzRmZWZlMmQ0YjAzYWQ4MGZhZjQ2ZGVlYjI0MiA9IEwucG9wdXAoe21heFdpZHRoOiAnMTAwJScKICAgICAgICAgICAgCiAgICAgICAgICAgIH0pOwoKICAgICAgICAgICAgCiAgICAgICAgICAgICAgICB2YXIgaHRtbF9kODIwY2FmZGY2YWM0MGNmYjZjODdmYzc1ZDdmM2FjMCA9ICQoYDxkaXYgaWQ9Imh0bWxfZDgyMGNhZmRmNmFjNDBjZmI2Yzg3ZmM3NWQ3ZjNhYzAiIHN0eWxlPSJ3aWR0aDogMTAwLjAlOyBoZWlnaHQ6IDEwMC4wJTsiPkhhcmJvdXJmcm9udCBFYXN0LFRvcm9udG8gSXNsYW5kcyxVbmlvbiBTdGF0aW9uPC9kaXY+YClbMF07CiAgICAgICAgICAgICAgICBwb3B1cF9jN2U0MzRmZWZlMmQ0YjAzYWQ4MGZhZjQ2ZGVlYjI0Mi5zZXRDb250ZW50KGh0bWxfZDgyMGNhZmRmNmFjNDBjZmI2Yzg3ZmM3NWQ3ZjNhYzApOwogICAgICAgICAgICAKCiAgICAgICAgICAgIGNpcmNsZV9tYXJrZXJfZTcyMWI3MWE2MDgzNDE4NmE0MzEzYzhkYjg1N2Y1MDQuYmluZFBvcHVwKHBvcHVwX2M3ZTQzNGZlZmUyZDRiMDNhZDgwZmFmNDZkZWViMjQyKQogICAgICAgICAgICA7CgogICAgICAgICAgICAKICAgICAgICAKICAgIAogICAgICAgICAgICB2YXIgY2lyY2xlX21hcmtlcl83MDMwM2E3ZDQwNWQ0MGNiOGRmNTQyZTExNDEzMDk5ZSA9IEwuY2lyY2xlTWFya2VyKAogICAgICAgICAgICAgICAgWzQzLjY0NzE3NjgsIC03OS4zODE1NzY0MDAwMDAwMV0sCiAgICAgICAgICAgICAgICB7CiAgImJ1YmJsaW5nTW91c2VFdmVudHMiOiB0cnVlLAogICJjb2xvciI6ICJibHVlIiwKICAiZGFzaEFycmF5IjogbnVsbCwKICAiZGFzaE9mZnNldCI6IG51bGwsCiAgImZpbGwiOiB0cnVlLAogICJmaWxsQ29sb3IiOiAiIzMxODZjYyIsCiAgImZpbGxPcGFjaXR5IjogMC43LAogICJmaWxsUnVsZSI6ICJldmVub2RkIiwKICAibGluZUNhcCI6ICJyb3VuZCIsCiAgImxpbmVKb2luIjogInJvdW5kIiwKICAib3BhY2l0eSI6IDEuMCwKICAicmFkaXVzIjogNSwKICAic3Ryb2tlIjogdHJ1ZSwKICAid2VpZ2h0IjogMwp9CiAgICAgICAgICAgICAgICApCiAgICAgICAgICAgICAgICAuYWRkVG8obWFwXzUwMTE0NDdmZWI0OTRkNDA5ZWYwOWZiNmYxNWJlMjRjKTsKICAgICAgICAgICAgCiAgICAKICAgICAgICAgICAgdmFyIHBvcHVwXzE5ZjhmZTBmODI3MzRjY2JiZGJhZjgwMTJmZDFiZDM2ID0gTC5wb3B1cCh7bWF4V2lkdGg6ICcxMDAlJwogICAgICAgICAgICAKICAgICAgICAgICAgfSk7CgogICAgICAgICAgICAKICAgICAgICAgICAgICAgIHZhciBodG1sXzBiMTVjY2Y2ZGQwZjQ2Mzk5MDBjNjFmZGIwOTk2NmQ2ID0gJChgPGRpdiBpZD0iaHRtbF8wYjE1Y2NmNmRkMGY0NjM5OTAwYzYxZmRiMDk5NjZkNiIgc3R5bGU9IndpZHRoOiAxMDAuMCU7IGhlaWdodDogMTAwLjAlOyI+RGVzaWduIEV4Y2hhbmdlLFRvcm9udG8gRG9taW5pb24gQ2VudHJlPC9kaXY+YClbMF07CiAgICAgICAgICAgICAgICBwb3B1cF8xOWY4ZmUwZjgyNzM0Y2NiYmRiYWY4MDEyZmQxYmQzNi5zZXRDb250ZW50KGh0bWxfMGIxNWNjZjZkZDBmNDYzOTkwMGM2MWZkYjA5OTY2ZDYpOwogICAgICAgICAgICAKCiAgICAgICAgICAgIGNpcmNsZV9tYXJrZXJfNzAzMDNhN2Q0MDVkNDBjYjhkZjU0MmUxMTQxMzA5OWUuYmluZFBvcHVwKHBvcHVwXzE5ZjhmZTBmODI3MzRjY2JiZGJhZjgwMTJmZDFiZDM2KQogICAgICAgICAgICA7CgogICAgICAgICAgICAKICAgICAgICAKICAgIAogICAgICAgICAgICB2YXIgY2lyY2xlX21hcmtlcl8yMmVlZjk4YmNmNDA0MmE1OTExMzRhMTQyNGNjYzRmZCA9IEwuY2lyY2xlTWFya2VyKAogICAgICAgICAgICAgICAgWzQzLjY0ODE5ODUsIC03OS4zNzk4MTY5MDAwMDAwMV0sCiAgICAgICAgICAgICAgICB7CiAgImJ1YmJsaW5nTW91c2VFdmVudHMiOiB0cnVlLAogICJjb2xvciI6ICJibHVlIiwKICAiZGFzaEFycmF5IjogbnVsbCwKICAiZGFzaE9mZnNldCI6IG51bGwsCiAgImZpbGwiOiB0cnVlLAogICJmaWxsQ29sb3IiOiAiIzMxODZjYyIsCiAgImZpbGxPcGFjaXR5IjogMC43LAogICJmaWxsUnVsZSI6ICJldmVub2RkIiwKICAibGluZUNhcCI6ICJyb3VuZCIsCiAgImxpbmVKb2luIjogInJvdW5kIiwKICAib3BhY2l0eSI6IDEuMCwKICAicmFkaXVzIjogNSwKICAic3Ryb2tlIjogdHJ1ZSwKICAid2VpZ2h0IjogMwp9CiAgICAgICAgICAgICAgICApCiAgICAgICAgICAgICAgICAuYWRkVG8obWFwXzUwMTE0NDdmZWI0OTRkNDA5ZWYwOWZiNmYxNWJlMjRjKTsKICAgICAgICAgICAgCiAgICAKICAgICAgICAgICAgdmFyIHBvcHVwXzc5YzlkMGRkMjFmNjQ4M2VhMzhkMWExNDEwMGRiNzAzID0gTC5wb3B1cCh7bWF4V2lkdGg6ICcxMDAlJwogICAgICAgICAgICAKICAgICAgICAgICAgfSk7CgogICAgICAgICAgICAKICAgICAgICAgICAgICAgIHZhciBodG1sX2Q5OGM0YjY0MmViZjRhNGQ5Y2Q4NGU4MGRjY2M4OTJmID0gJChgPGRpdiBpZD0iaHRtbF9kOThjNGI2NDJlYmY0YTRkOWNkODRlODBkY2NjODkyZiIgc3R5bGU9IndpZHRoOiAxMDAuMCU7IGhlaWdodDogMTAwLjAlOyI+Q29tbWVyY2UgQ291cnQsVmljdG9yaWEgSG90ZWw8L2Rpdj5gKVswXTsKICAgICAgICAgICAgICAgIHBvcHVwXzc5YzlkMGRkMjFmNjQ4M2VhMzhkMWExNDEwMGRiNzAzLnNldENvbnRlbnQoaHRtbF9kOThjNGI2NDJlYmY0YTRkOWNkODRlODBkY2NjODkyZik7CiAgICAgICAgICAgIAoKICAgICAgICAgICAgY2lyY2xlX21hcmtlcl8yMmVlZjk4YmNmNDA0MmE1OTExMzRhMTQyNGNjYzRmZC5iaW5kUG9wdXAocG9wdXBfNzljOWQwZGQyMWY2NDgzZWEzOGQxYTE0MTAwZGI3MDMpCiAgICAgICAgICAgIDsKCiAgICAgICAgICAgIAogICAgICAgIAogICAgCiAgICAgICAgICAgIHZhciBjaXJjbGVfbWFya2VyX2Q5YjM3YTYwN2FiYjQzNDE5ZTRkZDQwMDA0ZGIxMDFjID0gTC5jaXJjbGVNYXJrZXIoCiAgICAgICAgICAgICAgICBbNDMuNzExNjk0OCwgLTc5LjQxNjkzNTU5OTk5OTk5XSwKICAgICAgICAgICAgICAgIHsKICAiYnViYmxpbmdNb3VzZUV2ZW50cyI6IHRydWUsCiAgImNvbG9yIjogImJsdWUiLAogICJkYXNoQXJyYXkiOiBudWxsLAogICJkYXNoT2Zmc2V0IjogbnVsbCwKICAiZmlsbCI6IHRydWUsCiAgImZpbGxDb2xvciI6ICIjMzE4NmNjIiwKICAiZmlsbE9wYWNpdHkiOiAwLjcsCiAgImZpbGxSdWxlIjogImV2ZW5vZGQiLAogICJsaW5lQ2FwIjogInJvdW5kIiwKICAibGluZUpvaW4iOiAicm91bmQiLAogICJvcGFjaXR5IjogMS4wLAogICJyYWRpdXMiOiA1LAogICJzdHJva2UiOiB0cnVlLAogICJ3ZWlnaHQiOiAzCn0KICAgICAgICAgICAgICAgICkKICAgICAgICAgICAgICAgIC5hZGRUbyhtYXBfNTAxMTQ0N2ZlYjQ5NGQ0MDllZjA5ZmI2ZjE1YmUyNGMpOwogICAgICAgICAgICAKICAgIAogICAgICAgICAgICB2YXIgcG9wdXBfYmViMjM5ZThjNjcyNDEyNjk4NWJkMmFiNWRlNDdjZTEgPSBMLnBvcHVwKHttYXhXaWR0aDogJzEwMCUnCiAgICAgICAgICAgIAogICAgICAgICAgICB9KTsKCiAgICAgICAgICAgIAogICAgICAgICAgICAgICAgdmFyIGh0bWxfOTA4YjZkYzQ3M2M5NDM3ZGE4MTk5Yjc3ZGQ2YTUwMDIgPSAkKGA8ZGl2IGlkPSJodG1sXzkwOGI2ZGM0NzNjOTQzN2RhODE5OWI3N2RkNmE1MDAyIiBzdHlsZT0id2lkdGg6IDEwMC4wJTsgaGVpZ2h0OiAxMDAuMCU7Ij5Sb3NlbGF3bjwvZGl2PmApWzBdOwogICAgICAgICAgICAgICAgcG9wdXBfYmViMjM5ZThjNjcyNDEyNjk4NWJkMmFiNWRlNDdjZTEuc2V0Q29udGVudChodG1sXzkwOGI2ZGM0NzNjOTQzN2RhODE5OWI3N2RkNmE1MDAyKTsKICAgICAgICAgICAgCgogICAgICAgICAgICBjaXJjbGVfbWFya2VyX2Q5YjM3YTYwN2FiYjQzNDE5ZTRkZDQwMDA0ZGIxMDFjLmJpbmRQb3B1cChwb3B1cF9iZWIyMzllOGM2NzI0MTI2OTg1YmQyYWI1ZGU0N2NlMSkKICAgICAgICAgICAgOwoKICAgICAgICAgICAgCiAgICAgICAgCiAgICAKICAgICAgICAgICAgdmFyIGNpcmNsZV9tYXJrZXJfMTE4ZDNmYmJmN2Y5NGUxNWE1YWRjYmIxNmIzNzc2M2EgPSBMLmNpcmNsZU1hcmtlcigKICAgICAgICAgICAgICAgIFs0My42OTY5NDc2LCAtNzkuNDExMzA3MjAwMDAwMDFdLAogICAgICAgICAgICAgICAgewogICJidWJibGluZ01vdXNlRXZlbnRzIjogdHJ1ZSwKICAiY29sb3IiOiAiYmx1ZSIsCiAgImRhc2hBcnJheSI6IG51bGwsCiAgImRhc2hPZmZzZXQiOiBudWxsLAogICJmaWxsIjogdHJ1ZSwKICAiZmlsbENvbG9yIjogIiMzMTg2Y2MiLAogICJmaWxsT3BhY2l0eSI6IDAuNywKICAiZmlsbFJ1bGUiOiAiZXZlbm9kZCIsCiAgImxpbmVDYXAiOiAicm91bmQiLAogICJsaW5lSm9pbiI6ICJyb3VuZCIsCiAgIm9wYWNpdHkiOiAxLjAsCiAgInJhZGl1cyI6IDUsCiAgInN0cm9rZSI6IHRydWUsCiAgIndlaWdodCI6IDMKfQogICAgICAgICAgICAgICAgKQogICAgICAgICAgICAgICAgLmFkZFRvKG1hcF81MDExNDQ3ZmViNDk0ZDQwOWVmMDlmYjZmMTViZTI0Yyk7CiAgICAgICAgICAgIAogICAgCiAgICAgICAgICAgIHZhciBwb3B1cF80NTBlZWNiYzM5ZDA0ZTc2YTBjNjNmODM1Nzc1ZDk3YyA9IEwucG9wdXAoe21heFdpZHRoOiAnMTAwJScKICAgICAgICAgICAgCiAgICAgICAgICAgIH0pOwoKICAgICAgICAgICAgCiAgICAgICAgICAgICAgICB2YXIgaHRtbF85Zjc0OTRkZDYwYTU0NmZkYjA5NDRmZjgyMWQ2ZTU1ZiA9ICQoYDxkaXYgaWQ9Imh0bWxfOWY3NDk0ZGQ2MGE1NDZmZGIwOTQ0ZmY4MjFkNmU1NWYiIHN0eWxlPSJ3aWR0aDogMTAwLjAlOyBoZWlnaHQ6IDEwMC4wJTsiPkZvcmVzdCBIaWxsIE5vcnRoLEZvcmVzdCBIaWxsIFdlc3Q8L2Rpdj5gKVswXTsKICAgICAgICAgICAgICAgIHBvcHVwXzQ1MGVlY2JjMzlkMDRlNzZhMGM2M2Y4MzU3NzVkOTdjLnNldENvbnRlbnQoaHRtbF85Zjc0OTRkZDYwYTU0NmZkYjA5NDRmZjgyMWQ2ZTU1Zik7CiAgICAgICAgICAgIAoKICAgICAgICAgICAgY2lyY2xlX21hcmtlcl8xMThkM2ZiYmY3Zjk0ZTE1YTVhZGNiYjE2YjM3NzYzYS5iaW5kUG9wdXAocG9wdXBfNDUwZWVjYmMzOWQwNGU3NmEwYzYzZjgzNTc3NWQ5N2MpCiAgICAgICAgICAgIDsKCiAgICAgICAgICAgIAogICAgICAgIAogICAgCiAgICAgICAgICAgIHZhciBjaXJjbGVfbWFya2VyX2U5ZmNmMDFhZWM5YjRjYTNiNWExYzE1MGFkNGMxOTBiID0gTC5jaXJjbGVNYXJrZXIoCiAgICAgICAgICAgICAgICBbNDMuNjcyNzA5NywgLTc5LjQwNTY3ODQwMDAwMDAxXSwKICAgICAgICAgICAgICAgIHsKICAiYnViYmxpbmdNb3VzZUV2ZW50cyI6IHRydWUsCiAgImNvbG9yIjogImJsdWUiLAogICJkYXNoQXJyYXkiOiBudWxsLAogICJkYXNoT2Zmc2V0IjogbnVsbCwKICAiZmlsbCI6IHRydWUsCiAgImZpbGxDb2xvciI6ICIjMzE4NmNjIiwKICAiZmlsbE9wYWNpdHkiOiAwLjcsCiAgImZpbGxSdWxlIjogImV2ZW5vZGQiLAogICJsaW5lQ2FwIjogInJvdW5kIiwKICAibGluZUpvaW4iOiAicm91bmQiLAogICJvcGFjaXR5IjogMS4wLAogICJyYWRpdXMiOiA1LAogICJzdHJva2UiOiB0cnVlLAogICJ3ZWlnaHQiOiAzCn0KICAgICAgICAgICAgICAgICkKICAgICAgICAgICAgICAgIC5hZGRUbyhtYXBfNTAxMTQ0N2ZlYjQ5NGQ0MDllZjA5ZmI2ZjE1YmUyNGMpOwogICAgICAgICAgICAKICAgIAogICAgICAgICAgICB2YXIgcG9wdXBfMWIyOTMyZmQzNWNlNGI3NDhmMjA0ZTEzNGExNDUyMmEgPSBMLnBvcHVwKHttYXhXaWR0aDogJzEwMCUnCiAgICAgICAgICAgIAogICAgICAgICAgICB9KTsKCiAgICAgICAgICAgIAogICAgICAgICAgICAgICAgdmFyIGh0bWxfNTNmN2NiYWNkN2JjNDdmNzgxN2E3MzQ3ZWJiYTczMWIgPSAkKGA8ZGl2IGlkPSJodG1sXzUzZjdjYmFjZDdiYzQ3Zjc4MTdhNzM0N2ViYmE3MzFiIiBzdHlsZT0id2lkdGg6IDEwMC4wJTsgaGVpZ2h0OiAxMDAuMCU7Ij5UaGUgQW5uZXgsTm9ydGggTWlkdG93bixZb3JrdmlsbGU8L2Rpdj5gKVswXTsKICAgICAgICAgICAgICAgIHBvcHVwXzFiMjkzMmZkMzVjZTRiNzQ4ZjIwNGUxMzRhMTQ1MjJhLnNldENvbnRlbnQoaHRtbF81M2Y3Y2JhY2Q3YmM0N2Y3ODE3YTczNDdlYmJhNzMxYik7CiAgICAgICAgICAgIAoKICAgICAgICAgICAgY2lyY2xlX21hcmtlcl9lOWZjZjAxYWVjOWI0Y2EzYjVhMWMxNTBhZDRjMTkwYi5iaW5kUG9wdXAocG9wdXBfMWIyOTMyZmQzNWNlNGI3NDhmMjA0ZTEzNGExNDUyMmEpCiAgICAgICAgICAgIDsKCiAgICAgICAgICAgIAogICAgICAgIAogICAgCiAgICAgICAgICAgIHZhciBjaXJjbGVfbWFya2VyXzAwNmFkOTAwZjU5OTRlNGRhZmFjMDk3YTFmMmM1ZmM1ID0gTC5jaXJjbGVNYXJrZXIoCiAgICAgICAgICAgICAgICBbNDMuNjYyNjk1NiwgLTc5LjQwMDA0OTNdLAogICAgICAgICAgICAgICAgewogICJidWJibGluZ01vdXNlRXZlbnRzIjogdHJ1ZSwKICAiY29sb3IiOiAiYmx1ZSIsCiAgImRhc2hBcnJheSI6IG51bGwsCiAgImRhc2hPZmZzZXQiOiBudWxsLAogICJmaWxsIjogdHJ1ZSwKICAiZmlsbENvbG9yIjogIiMzMTg2Y2MiLAogICJmaWxsT3BhY2l0eSI6IDAuNywKICAiZmlsbFJ1bGUiOiAiZXZlbm9kZCIsCiAgImxpbmVDYXAiOiAicm91bmQiLAogICJsaW5lSm9pbiI6ICJyb3VuZCIsCiAgIm9wYWNpdHkiOiAxLjAsCiAgInJhZGl1cyI6IDUsCiAgInN0cm9rZSI6IHRydWUsCiAgIndlaWdodCI6IDMKfQogICAgICAgICAgICAgICAgKQogICAgICAgICAgICAgICAgLmFkZFRvKG1hcF81MDExNDQ3ZmViNDk0ZDQwOWVmMDlmYjZmMTViZTI0Yyk7CiAgICAgICAgICAgIAogICAgCiAgICAgICAgICAgIHZhciBwb3B1cF9lYWQ2OTI2Y2MxYTk0NjdjOTFjZTJlYjNlN2VhM2U0MyA9IEwucG9wdXAoe21heFdpZHRoOiAnMTAwJScKICAgICAgICAgICAgCiAgICAgICAgICAgIH0pOwoKICAgICAgICAgICAgCiAgICAgICAgICAgICAgICB2YXIgaHRtbF9lNjc3OTdjMGQ3MTI0OWU4Yjc1Y2Y5MTA4MDllMTc2YSA9ICQoYDxkaXYgaWQ9Imh0bWxfZTY3Nzk3YzBkNzEyNDllOGI3NWNmOTEwODA5ZTE3NmEiIHN0eWxlPSJ3aWR0aDogMTAwLjAlOyBoZWlnaHQ6IDEwMC4wJTsiPkhhcmJvcmQsVW5pdmVyc2l0eSBvZiBUb3JvbnRvPC9kaXY+YClbMF07CiAgICAgICAgICAgICAgICBwb3B1cF9lYWQ2OTI2Y2MxYTk0NjdjOTFjZTJlYjNlN2VhM2U0My5zZXRDb250ZW50KGh0bWxfZTY3Nzk3YzBkNzEyNDllOGI3NWNmOTEwODA5ZTE3NmEpOwogICAgICAgICAgICAKCiAgICAgICAgICAgIGNpcmNsZV9tYXJrZXJfMDA2YWQ5MDBmNTk5NGU0ZGFmYWMwOTdhMWYyYzVmYzUuYmluZFBvcHVwKHBvcHVwX2VhZDY5MjZjYzFhOTQ2N2M5MWNlMmViM2U3ZWEzZTQzKQogICAgICAgICAgICA7CgogICAgICAgICAgICAKICAgICAgICAKICAgIAogICAgICAgICAgICB2YXIgY2lyY2xlX21hcmtlcl9lNGZjZDZlMjQ0NmI0NGNkOGE4YWU3Y2FiZWE3YmY2OSA9IEwuY2lyY2xlTWFya2VyKAogICAgICAgICAgICAgICAgWzQzLjY1MzIwNTcsIC03OS40MDAwNDkzXSwKICAgICAgICAgICAgICAgIHsKICAiYnViYmxpbmdNb3VzZUV2ZW50cyI6IHRydWUsCiAgImNvbG9yIjogImJsdWUiLAogICJkYXNoQXJyYXkiOiBudWxsLAogICJkYXNoT2Zmc2V0IjogbnVsbCwKICAiZmlsbCI6IHRydWUsCiAgImZpbGxDb2xvciI6ICIjMzE4NmNjIiwKICAiZmlsbE9wYWNpdHkiOiAwLjcsCiAgImZpbGxSdWxlIjogImV2ZW5vZGQiLAogICJsaW5lQ2FwIjogInJvdW5kIiwKICAibGluZUpvaW4iOiAicm91bmQiLAogICJvcGFjaXR5IjogMS4wLAogICJyYWRpdXMiOiA1LAogICJzdHJva2UiOiB0cnVlLAogICJ3ZWlnaHQiOiAzCn0KICAgICAgICAgICAgICAgICkKICAgICAgICAgICAgICAgIC5hZGRUbyhtYXBfNTAxMTQ0N2ZlYjQ5NGQ0MDllZjA5ZmI2ZjE1YmUyNGMpOwogICAgICAgICAgICAKICAgIAogICAgICAgICAgICB2YXIgcG9wdXBfMmJiMmRhNDg3YWUzNGUxZDgzODQ1NTJlNWY3MmQxNWYgPSBMLnBvcHVwKHttYXhXaWR0aDogJzEwMCUnCiAgICAgICAgICAgIAogICAgICAgICAgICB9KTsKCiAgICAgICAgICAgIAogICAgICAgICAgICAgICAgdmFyIGh0bWxfZGFhM2Y1MDU0ZDRmNDIxYTgwZWI2YTAwYzM3ZjRmZmYgPSAkKGA8ZGl2IGlkPSJodG1sX2RhYTNmNTA1NGQ0ZjQyMWE4MGViNmEwMGMzN2Y0ZmZmIiBzdHlsZT0id2lkdGg6IDEwMC4wJTsgaGVpZ2h0OiAxMDAuMCU7Ij5DaGluYXRvd24sR3JhbmdlIFBhcmssS2Vuc2luZ3RvbiBNYXJrZXQ8L2Rpdj5gKVswXTsKICAgICAgICAgICAgICAgIHBvcHVwXzJiYjJkYTQ4N2FlMzRlMWQ4Mzg0NTUyZTVmNzJkMTVmLnNldENvbnRlbnQoaHRtbF9kYWEzZjUwNTRkNGY0MjFhODBlYjZhMDBjMzdmNGZmZik7CiAgICAgICAgICAgIAoKICAgICAgICAgICAgY2lyY2xlX21hcmtlcl9lNGZjZDZlMjQ0NmI0NGNkOGE4YWU3Y2FiZWE3YmY2OS5iaW5kUG9wdXAocG9wdXBfMmJiMmRhNDg3YWUzNGUxZDgzODQ1NTJlNWY3MmQxNWYpCiAgICAgICAgICAgIDsKCiAgICAgICAgICAgIAogICAgICAgIAogICAgCiAgICAgICAgICAgIHZhciBjaXJjbGVfbWFya2VyX2ZlM2U4YmU5Mjc0ODRjZGZiZThkZjg1ZjRkODNhMTk3ID0gTC5jaXJjbGVNYXJrZXIoCiAgICAgICAgICAgICAgICBbNDMuNjI4OTQ2NywgLTc5LjM5NDQxOTldLAogICAgICAgICAgICAgICAgewogICJidWJibGluZ01vdXNlRXZlbnRzIjogdHJ1ZSwKICAiY29sb3IiOiAiYmx1ZSIsCiAgImRhc2hBcnJheSI6IG51bGwsCiAgImRhc2hPZmZzZXQiOiBudWxsLAogICJmaWxsIjogdHJ1ZSwKICAiZmlsbENvbG9yIjogIiMzMTg2Y2MiLAogICJmaWxsT3BhY2l0eSI6IDAuNywKICAiZmlsbFJ1bGUiOiAiZXZlbm9kZCIsCiAgImxpbmVDYXAiOiAicm91bmQiLAogICJsaW5lSm9pbiI6ICJyb3VuZCIsCiAgIm9wYWNpdHkiOiAxLjAsCiAgInJhZGl1cyI6IDUsCiAgInN0cm9rZSI6IHRydWUsCiAgIndlaWdodCI6IDMKfQogICAgICAgICAgICAgICAgKQogICAgICAgICAgICAgICAgLmFkZFRvKG1hcF81MDExNDQ3ZmViNDk0ZDQwOWVmMDlmYjZmMTViZTI0Yyk7CiAgICAgICAgICAgIAogICAgCiAgICAgICAgICAgIHZhciBwb3B1cF84MDNhMmJlYjA4ZjA0MThjOTJhOTAxOTM1ZjVlNmE3OSA9IEwucG9wdXAoe21heFdpZHRoOiAnMTAwJScKICAgICAgICAgICAgCiAgICAgICAgICAgIH0pOwoKICAgICAgICAgICAgCiAgICAgICAgICAgICAgICB2YXIgaHRtbF83Mzg1ZTllMWE2NDc0YzJhYWYzNzY4OTQ0OGY2NjgyZSA9ICQoYDxkaXYgaWQ9Imh0bWxfNzM4NWU5ZTFhNjQ3NGMyYWFmMzc2ODk0NDhmNjY4MmUiIHN0eWxlPSJ3aWR0aDogMTAwLjAlOyBoZWlnaHQ6IDEwMC4wJTsiPkNOIFRvd2VyLEJhdGh1cnN0IFF1YXksSXNsYW5kIGFpcnBvcnQsSGFyYm91cmZyb250IFdlc3QsS2luZyBhbmQgU3BhZGluYSxSYWlsd2F5IExhbmRzLFNvdXRoIE5pYWdhcmE8L2Rpdj5gKVswXTsKICAgICAgICAgICAgICAgIHBvcHVwXzgwM2EyYmViMDhmMDQxOGM5MmE5MDE5MzVmNWU2YTc5LnNldENvbnRlbnQoaHRtbF83Mzg1ZTllMWE2NDc0YzJhYWYzNzY4OTQ0OGY2NjgyZSk7CiAgICAgICAgICAgIAoKICAgICAgICAgICAgY2lyY2xlX21hcmtlcl9mZTNlOGJlOTI3NDg0Y2RmYmU4ZGY4NWY0ZDgzYTE5Ny5iaW5kUG9wdXAocG9wdXBfODAzYTJiZWIwOGYwNDE4YzkyYTkwMTkzNWY1ZTZhNzkpCiAgICAgICAgICAgIDsKCiAgICAgICAgICAgIAogICAgICAgIAogICAgCiAgICAgICAgICAgIHZhciBjaXJjbGVfbWFya2VyXzFjMTY5NDE2ZmRiMDRiOGViMTAzOTFiNjU3OTg1YjA0ID0gTC5jaXJjbGVNYXJrZXIoCiAgICAgICAgICAgICAgICBbNDMuNjQ2NDM1MiwgLTc5LjM3NDg0NTk5OTk5OTk5XSwKICAgICAgICAgICAgICAgIHsKICAiYnViYmxpbmdNb3VzZUV2ZW50cyI6IHRydWUsCiAgImNvbG9yIjogImJsdWUiLAogICJkYXNoQXJyYXkiOiBudWxsLAogICJkYXNoT2Zmc2V0IjogbnVsbCwKICAiZmlsbCI6IHRydWUsCiAgImZpbGxDb2xvciI6ICIjMzE4NmNjIiwKICAiZmlsbE9wYWNpdHkiOiAwLjcsCiAgImZpbGxSdWxlIjogImV2ZW5vZGQiLAogICJsaW5lQ2FwIjogInJvdW5kIiwKICAibGluZUpvaW4iOiAicm91bmQiLAogICJvcGFjaXR5IjogMS4wLAogICJyYWRpdXMiOiA1LAogICJzdHJva2UiOiB0cnVlLAogICJ3ZWlnaHQiOiAzCn0KICAgICAgICAgICAgICAgICkKICAgICAgICAgICAgICAgIC5hZGRUbyhtYXBfNTAxMTQ0N2ZlYjQ5NGQ0MDllZjA5ZmI2ZjE1YmUyNGMpOwogICAgICAgICAgICAKICAgIAogICAgICAgICAgICB2YXIgcG9wdXBfODQ5Nzc4N2JmODdmNDA0Yzk5ZTk1ZWNiZWU5YWQzMWEgPSBMLnBvcHVwKHttYXhXaWR0aDogJzEwMCUnCiAgICAgICAgICAgIAogICAgICAgICAgICB9KTsKCiAgICAgICAgICAgIAogICAgICAgICAgICAgICAgdmFyIGh0bWxfZGFhYTY2NWExM2FiNGE0NTljMGNkYWJkNGYzMDYyNDcgPSAkKGA8ZGl2IGlkPSJodG1sX2RhYWE2NjVhMTNhYjRhNDU5YzBjZGFiZDRmMzA2MjQ3IiBzdHlsZT0id2lkdGg6IDEwMC4wJTsgaGVpZ2h0OiAxMDAuMCU7Ij5TdG4gQSBQTyBCb3hlcyAyNSBUaGUgRXNwbGFuYWRlPC9kaXY+YClbMF07CiAgICAgICAgICAgICAgICBwb3B1cF84NDk3Nzg3YmY4N2Y0MDRjOTllOTVlY2JlZTlhZDMxYS5zZXRDb250ZW50KGh0bWxfZGFhYTY2NWExM2FiNGE0NTljMGNkYWJkNGYzMDYyNDcpOwogICAgICAgICAgICAKCiAgICAgICAgICAgIGNpcmNsZV9tYXJrZXJfMWMxNjk0MTZmZGIwNGI4ZWIxMDM5MWI2NTc5ODViMDQuYmluZFBvcHVwKHBvcHVwXzg0OTc3ODdiZjg3ZjQwNGM5OWU5NWVjYmVlOWFkMzFhKQogICAgICAgICAgICA7CgogICAgICAgICAgICAKICAgICAgICAKICAgIAogICAgICAgICAgICB2YXIgY2lyY2xlX21hcmtlcl8yMDI0MjE1ZDdkOWI0MTU0ODhjZTkwOTgxM2JjMmM2YSA9IEwuY2lyY2xlTWFya2VyKAogICAgICAgICAgICAgICAgWzQzLjY0ODQyOTIsIC03OS4zODIyODAyXSwKICAgICAgICAgICAgICAgIHsKICAiYnViYmxpbmdNb3VzZUV2ZW50cyI6IHRydWUsCiAgImNvbG9yIjogImJsdWUiLAogICJkYXNoQXJyYXkiOiBudWxsLAogICJkYXNoT2Zmc2V0IjogbnVsbCwKICAiZmlsbCI6IHRydWUsCiAgImZpbGxDb2xvciI6ICIjMzE4NmNjIiwKICAiZmlsbE9wYWNpdHkiOiAwLjcsCiAgImZpbGxSdWxlIjogImV2ZW5vZGQiLAogICJsaW5lQ2FwIjogInJvdW5kIiwKICAibGluZUpvaW4iOiAicm91bmQiLAogICJvcGFjaXR5IjogMS4wLAogICJyYWRpdXMiOiA1LAogICJzdHJva2UiOiB0cnVlLAogICJ3ZWlnaHQiOiAzCn0KICAgICAgICAgICAgICAgICkKICAgICAgICAgICAgICAgIC5hZGRUbyhtYXBfNTAxMTQ0N2ZlYjQ5NGQ0MDllZjA5ZmI2ZjE1YmUyNGMpOwogICAgICAgICAgICAKICAgIAogICAgICAgICAgICB2YXIgcG9wdXBfN2QzZWM4N2NmMTFlNGNmMWJmMzU2ZDgyMTQzNWYxNGUgPSBMLnBvcHVwKHttYXhXaWR0aDogJzEwMCUnCiAgICAgICAgICAgIAogICAgICAgICAgICB9KTsKCiAgICAgICAgICAgIAogICAgICAgICAgICAgICAgdmFyIGh0bWxfOTk2NTA5OTUwYTMwNDk1MmFiY2VlZWVkNzkzZmFmOWUgPSAkKGA8ZGl2IGlkPSJodG1sXzk5NjUwOTk1MGEzMDQ5NTJhYmNlZWVlZDc5M2ZhZjllIiBzdHlsZT0id2lkdGg6IDEwMC4wJTsgaGVpZ2h0OiAxMDAuMCU7Ij5GaXJzdCBDYW5hZGlhbiBQbGFjZSxVbmRlcmdyb3VuZCBjaXR5PC9kaXY+YClbMF07CiAgICAgICAgICAgICAgICBwb3B1cF83ZDNlYzg3Y2YxMWU0Y2YxYmYzNTZkODIxNDM1ZjE0ZS5zZXRDb250ZW50KGh0bWxfOTk2NTA5OTUwYTMwNDk1MmFiY2VlZWVkNzkzZmFmOWUpOwogICAgICAgICAgICAKCiAgICAgICAgICAgIGNpcmNsZV9tYXJrZXJfMjAyNDIxNWQ3ZDliNDE1NDg4Y2U5MDk4MTNiYzJjNmEuYmluZFBvcHVwKHBvcHVwXzdkM2VjODdjZjExZTRjZjFiZjM1NmQ4MjE0MzVmMTRlKQogICAgICAgICAgICA7CgogICAgICAgICAgICAKICAgICAgICAKICAgIAogICAgICAgICAgICB2YXIgY2lyY2xlX21hcmtlcl8yYmVkZWRiY2YyYWI0MGEyYTRhNTcwNzk3MTVjZDc4YyA9IEwuY2lyY2xlTWFya2VyKAogICAgICAgICAgICAgICAgWzQzLjY2OTU0MiwgLTc5LjQyMjU2MzddLAogICAgICAgICAgICAgICAgewogICJidWJibGluZ01vdXNlRXZlbnRzIjogdHJ1ZSwKICAiY29sb3IiOiAiYmx1ZSIsCiAgImRhc2hBcnJheSI6IG51bGwsCiAgImRhc2hPZmZzZXQiOiBudWxsLAogICJmaWxsIjogdHJ1ZSwKICAiZmlsbENvbG9yIjogIiMzMTg2Y2MiLAogICJmaWxsT3BhY2l0eSI6IDAuNywKICAiZmlsbFJ1bGUiOiAiZXZlbm9kZCIsCiAgImxpbmVDYXAiOiAicm91bmQiLAogICJsaW5lSm9pbiI6ICJyb3VuZCIsCiAgIm9wYWNpdHkiOiAxLjAsCiAgInJhZGl1cyI6IDUsCiAgInN0cm9rZSI6IHRydWUsCiAgIndlaWdodCI6IDMKfQogICAgICAgICAgICAgICAgKQogICAgICAgICAgICAgICAgLmFkZFRvKG1hcF81MDExNDQ3ZmViNDk0ZDQwOWVmMDlmYjZmMTViZTI0Yyk7CiAgICAgICAgICAgIAogICAgCiAgICAgICAgICAgIHZhciBwb3B1cF9mOTQxY2VkOWIzYTY0NjhhOTRhYzM2NDE5NDBjMzUzZCA9IEwucG9wdXAoe21heFdpZHRoOiAnMTAwJScKICAgICAgICAgICAgCiAgICAgICAgICAgIH0pOwoKICAgICAgICAgICAgCiAgICAgICAgICAgICAgICB2YXIgaHRtbF8wZmI1MGNmYjlhYmQ0MDkwYjVlNzViZWY5MGM4ZWE5YyA9ICQoYDxkaXYgaWQ9Imh0bWxfMGZiNTBjZmI5YWJkNDA5MGI1ZTc1YmVmOTBjOGVhOWMiIHN0eWxlPSJ3aWR0aDogMTAwLjAlOyBoZWlnaHQ6IDEwMC4wJTsiPkNocmlzdGllPC9kaXY+YClbMF07CiAgICAgICAgICAgICAgICBwb3B1cF9mOTQxY2VkOWIzYTY0NjhhOTRhYzM2NDE5NDBjMzUzZC5zZXRDb250ZW50KGh0bWxfMGZiNTBjZmI5YWJkNDA5MGI1ZTc1YmVmOTBjOGVhOWMpOwogICAgICAgICAgICAKCiAgICAgICAgICAgIGNpcmNsZV9tYXJrZXJfMmJlZGVkYmNmMmFiNDBhMmE0YTU3MDc5NzE1Y2Q3OGMuYmluZFBvcHVwKHBvcHVwX2Y5NDFjZWQ5YjNhNjQ2OGE5NGFjMzY0MTk0MGMzNTNkKQogICAgICAgICAgICA7CgogICAgICAgICAgICAKICAgICAgICAKICAgIAogICAgICAgICAgICB2YXIgY2lyY2xlX21hcmtlcl83MjU4MTVmZDhmODg0ZDIwYWRlN2MwYmUzODU0MjQzMiA9IEwuY2lyY2xlTWFya2VyKAogICAgICAgICAgICAgICAgWzQzLjY2OTAwNTEwMDAwMDAxLCAtNzkuNDQyMjU5M10sCiAgICAgICAgICAgICAgICB7CiAgImJ1YmJsaW5nTW91c2VFdmVudHMiOiB0cnVlLAogICJjb2xvciI6ICJibHVlIiwKICAiZGFzaEFycmF5IjogbnVsbCwKICAiZGFzaE9mZnNldCI6IG51bGwsCiAgImZpbGwiOiB0cnVlLAogICJmaWxsQ29sb3IiOiAiIzMxODZjYyIsCiAgImZpbGxPcGFjaXR5IjogMC43LAogICJmaWxsUnVsZSI6ICJldmVub2RkIiwKICAibGluZUNhcCI6ICJyb3VuZCIsCiAgImxpbmVKb2luIjogInJvdW5kIiwKICAib3BhY2l0eSI6IDEuMCwKICAicmFkaXVzIjogNSwKICAic3Ryb2tlIjogdHJ1ZSwKICAid2VpZ2h0IjogMwp9CiAgICAgICAgICAgICAgICApCiAgICAgICAgICAgICAgICAuYWRkVG8obWFwXzUwMTE0NDdmZWI0OTRkNDA5ZWYwOWZiNmYxNWJlMjRjKTsKICAgICAgICAgICAgCiAgICAKICAgICAgICAgICAgdmFyIHBvcHVwX2Y3OTM3MTJjMjI3MzQxMjc5MWI0OGUzNTRkOTMxOTM3ID0gTC5wb3B1cCh7bWF4V2lkdGg6ICcxMDAlJwogICAgICAgICAgICAKICAgICAgICAgICAgfSk7CgogICAgICAgICAgICAKICAgICAgICAgICAgICAgIHZhciBodG1sXzIxZTE2NGYzMTY3ODRlZGVhZWNmODIzOTc0MWM5ZTEwID0gJChgPGRpdiBpZD0iaHRtbF8yMWUxNjRmMzE2Nzg0ZWRlYWVjZjgyMzk3NDFjOWUxMCIgc3R5bGU9IndpZHRoOiAxMDAuMCU7IGhlaWdodDogMTAwLjAlOyI+RG92ZXJjb3VydCBWaWxsYWdlLER1ZmZlcmluPC9kaXY+YClbMF07CiAgICAgICAgICAgICAgICBwb3B1cF9mNzkzNzEyYzIyNzM0MTI3OTFiNDhlMzU0ZDkzMTkzNy5zZXRDb250ZW50KGh0bWxfMjFlMTY0ZjMxNjc4NGVkZWFlY2Y4MjM5NzQxYzllMTApOwogICAgICAgICAgICAKCiAgICAgICAgICAgIGNpcmNsZV9tYXJrZXJfNzI1ODE1ZmQ4Zjg4NGQyMGFkZTdjMGJlMzg1NDI0MzIuYmluZFBvcHVwKHBvcHVwX2Y3OTM3MTJjMjI3MzQxMjc5MWI0OGUzNTRkOTMxOTM3KQogICAgICAgICAgICA7CgogICAgICAgICAgICAKICAgICAgICAKICAgIAogICAgICAgICAgICB2YXIgY2lyY2xlX21hcmtlcl8zYjE2MWQ3YWY3M2U0MzZmODJmN2FhMzFiYjY0ZWY4MSA9IEwuY2lyY2xlTWFya2VyKAogICAgICAgICAgICAgICAgWzQzLjY0NzkyNjcwMDAwMDAwNiwgLTc5LjQxOTc0OTddLAogICAgICAgICAgICAgICAgewogICJidWJibGluZ01vdXNlRXZlbnRzIjogdHJ1ZSwKICAiY29sb3IiOiAiYmx1ZSIsCiAgImRhc2hBcnJheSI6IG51bGwsCiAgImRhc2hPZmZzZXQiOiBudWxsLAogICJmaWxsIjogdHJ1ZSwKICAiZmlsbENvbG9yIjogIiMzMTg2Y2MiLAogICJmaWxsT3BhY2l0eSI6IDAuNywKICAiZmlsbFJ1bGUiOiAiZXZlbm9kZCIsCiAgImxpbmVDYXAiOiAicm91bmQiLAogICJsaW5lSm9pbiI6ICJyb3VuZCIsCiAgIm9wYWNpdHkiOiAxLjAsCiAgInJhZGl1cyI6IDUsCiAgInN0cm9rZSI6IHRydWUsCiAgIndlaWdodCI6IDMKfQogICAgICAgICAgICAgICAgKQogICAgICAgICAgICAgICAgLmFkZFRvKG1hcF81MDExNDQ3ZmViNDk0ZDQwOWVmMDlmYjZmMTViZTI0Yyk7CiAgICAgICAgICAgIAogICAgCiAgICAgICAgICAgIHZhciBwb3B1cF84OWRmZDA1MWZhYmE0YjAzOTRiYjczNmM4OTgxOGNlYiA9IEwucG9wdXAoe21heFdpZHRoOiAnMTAwJScKICAgICAgICAgICAgCiAgICAgICAgICAgIH0pOwoKICAgICAgICAgICAgCiAgICAgICAgICAgICAgICB2YXIgaHRtbF80ZDkxZjAzZGY3YTY0MmM4ODY4NjI4ZjVlNTU3NmFlYiA9ICQoYDxkaXYgaWQ9Imh0bWxfNGQ5MWYwM2RmN2E2NDJjODg2ODYyOGY1ZTU1NzZhZWIiIHN0eWxlPSJ3aWR0aDogMTAwLjAlOyBoZWlnaHQ6IDEwMC4wJTsiPkxpdHRsZSBQb3J0dWdhbCxUcmluaXR5PC9kaXY+YClbMF07CiAgICAgICAgICAgICAgICBwb3B1cF84OWRmZDA1MWZhYmE0YjAzOTRiYjczNmM4OTgxOGNlYi5zZXRDb250ZW50KGh0bWxfNGQ5MWYwM2RmN2E2NDJjODg2ODYyOGY1ZTU1NzZhZWIpOwogICAgICAgICAgICAKCiAgICAgICAgICAgIGNpcmNsZV9tYXJrZXJfM2IxNjFkN2FmNzNlNDM2ZjgyZjdhYTMxYmI2NGVmODEuYmluZFBvcHVwKHBvcHVwXzg5ZGZkMDUxZmFiYTRiMDM5NGJiNzM2Yzg5ODE4Y2ViKQogICAgICAgICAgICA7CgogICAgICAgICAgICAKICAgICAgICAKICAgIAogICAgICAgICAgICB2YXIgY2lyY2xlX21hcmtlcl80ZTNlYzVmYzc5YWQ0MTFhOTk5MGNkMDVmNDUzYjQxMyA9IEwuY2lyY2xlTWFya2VyKAogICAgICAgICAgICAgICAgWzQzLjYzNjg0NzIsIC03OS40MjgxOTE0MDAwMDAwMl0sCiAgICAgICAgICAgICAgICB7CiAgImJ1YmJsaW5nTW91c2VFdmVudHMiOiB0cnVlLAogICJjb2xvciI6ICJibHVlIiwKICAiZGFzaEFycmF5IjogbnVsbCwKICAiZGFzaE9mZnNldCI6IG51bGwsCiAgImZpbGwiOiB0cnVlLAogICJmaWxsQ29sb3IiOiAiIzMxODZjYyIsCiAgImZpbGxPcGFjaXR5IjogMC43LAogICJmaWxsUnVsZSI6ICJldmVub2RkIiwKICAibGluZUNhcCI6ICJyb3VuZCIsCiAgImxpbmVKb2luIjogInJvdW5kIiwKICAib3BhY2l0eSI6IDEuMCwKICAicmFkaXVzIjogNSwKICAic3Ryb2tlIjogdHJ1ZSwKICAid2VpZ2h0IjogMwp9CiAgICAgICAgICAgICAgICApCiAgICAgICAgICAgICAgICAuYWRkVG8obWFwXzUwMTE0NDdmZWI0OTRkNDA5ZWYwOWZiNmYxNWJlMjRjKTsKICAgICAgICAgICAgCiAgICAKICAgICAgICAgICAgdmFyIHBvcHVwXzkzMzNjM2FjNzExNjQyODRhZjk4Y2M2YmQ0YWJhY2FmID0gTC5wb3B1cCh7bWF4V2lkdGg6ICcxMDAlJwogICAgICAgICAgICAKICAgICAgICAgICAgfSk7CgogICAgICAgICAgICAKICAgICAgICAgICAgICAgIHZhciBodG1sXzA0ZmM1Yzg1MmNhMjRlOWFhZTc3NGE0OTYxNmNiNTIzID0gJChgPGRpdiBpZD0iaHRtbF8wNGZjNWM4NTJjYTI0ZTlhYWU3NzRhNDk2MTZjYjUyMyIgc3R5bGU9IndpZHRoOiAxMDAuMCU7IGhlaWdodDogMTAwLjAlOyI+QnJvY2t0b24sRXhoaWJpdGlvbiBQbGFjZSxQYXJrZGFsZSBWaWxsYWdlPC9kaXY+YClbMF07CiAgICAgICAgICAgICAgICBwb3B1cF85MzMzYzNhYzcxMTY0Mjg0YWY5OGNjNmJkNGFiYWNhZi5zZXRDb250ZW50KGh0bWxfMDRmYzVjODUyY2EyNGU5YWFlNzc0YTQ5NjE2Y2I1MjMpOwogICAgICAgICAgICAKCiAgICAgICAgICAgIGNpcmNsZV9tYXJrZXJfNGUzZWM1ZmM3OWFkNDExYTk5OTBjZDA1ZjQ1M2I0MTMuYmluZFBvcHVwKHBvcHVwXzkzMzNjM2FjNzExNjQyODRhZjk4Y2M2YmQ0YWJhY2FmKQogICAgICAgICAgICA7CgogICAgICAgICAgICAKICAgICAgICAKICAgIAogICAgICAgICAgICB2YXIgY2lyY2xlX21hcmtlcl83ZjI3YjkzMjZlNjk0MGZmYTdkYmExZDY4YWZmYzQ2OCA9IEwuY2lyY2xlTWFya2VyKAogICAgICAgICAgICAgICAgWzQzLjY2MTYwODMsIC03OS40NjQ3NjMyOTk5OTk5OV0sCiAgICAgICAgICAgICAgICB7CiAgImJ1YmJsaW5nTW91c2VFdmVudHMiOiB0cnVlLAogICJjb2xvciI6ICJibHVlIiwKICAiZGFzaEFycmF5IjogbnVsbCwKICAiZGFzaE9mZnNldCI6IG51bGwsCiAgImZpbGwiOiB0cnVlLAogICJmaWxsQ29sb3IiOiAiIzMxODZjYyIsCiAgImZpbGxPcGFjaXR5IjogMC43LAogICJmaWxsUnVsZSI6ICJldmVub2RkIiwKICAibGluZUNhcCI6ICJyb3VuZCIsCiAgImxpbmVKb2luIjogInJvdW5kIiwKICAib3BhY2l0eSI6IDEuMCwKICAicmFkaXVzIjogNSwKICAic3Ryb2tlIjogdHJ1ZSwKICAid2VpZ2h0IjogMwp9CiAgICAgICAgICAgICAgICApCiAgICAgICAgICAgICAgICAuYWRkVG8obWFwXzUwMTE0NDdmZWI0OTRkNDA5ZWYwOWZiNmYxNWJlMjRjKTsKICAgICAgICAgICAgCiAgICAKICAgICAgICAgICAgdmFyIHBvcHVwXzc1YjlhYmI1MzZkMzQ5NWY4NjUyMGM5MTNlNDExNDVkID0gTC5wb3B1cCh7bWF4V2lkdGg6ICcxMDAlJwogICAgICAgICAgICAKICAgICAgICAgICAgfSk7CgogICAgICAgICAgICAKICAgICAgICAgICAgICAgIHZhciBodG1sXzdmMmU3YzEzMmU3NjQ3Mjg5NGEwNzI3Yzk0NjJhMWUwID0gJChgPGRpdiBpZD0iaHRtbF83ZjJlN2MxMzJlNzY0NzI4OTRhMDcyN2M5NDYyYTFlMCIgc3R5bGU9IndpZHRoOiAxMDAuMCU7IGhlaWdodDogMTAwLjAlOyI+SGlnaCBQYXJrLFRoZSBKdW5jdGlvbiBTb3V0aDwvZGl2PmApWzBdOwogICAgICAgICAgICAgICAgcG9wdXBfNzViOWFiYjUzNmQzNDk1Zjg2NTIwYzkxM2U0MTE0NWQuc2V0Q29udGVudChodG1sXzdmMmU3YzEzMmU3NjQ3Mjg5NGEwNzI3Yzk0NjJhMWUwKTsKICAgICAgICAgICAgCgogICAgICAgICAgICBjaXJjbGVfbWFya2VyXzdmMjdiOTMyNmU2OTQwZmZhN2RiYTFkNjhhZmZjNDY4LmJpbmRQb3B1cChwb3B1cF83NWI5YWJiNTM2ZDM0OTVmODY1MjBjOTEzZTQxMTQ1ZCkKICAgICAgICAgICAgOwoKICAgICAgICAgICAgCiAgICAgICAgCiAgICAKICAgICAgICAgICAgdmFyIGNpcmNsZV9tYXJrZXJfY2EwZmVmMGI2N2IyNGUzZWIxYjNhMDY5NzM5NzlmNzEgPSBMLmNpcmNsZU1hcmtlcigKICAgICAgICAgICAgICAgIFs0My42NDg5NTk3LCAtNzkuNDU2MzI1XSwKICAgICAgICAgICAgICAgIHsKICAiYnViYmxpbmdNb3VzZUV2ZW50cyI6IHRydWUsCiAgImNvbG9yIjogImJsdWUiLAogICJkYXNoQXJyYXkiOiBudWxsLAogICJkYXNoT2Zmc2V0IjogbnVsbCwKICAiZmlsbCI6IHRydWUsCiAgImZpbGxDb2xvciI6ICIjMzE4NmNjIiwKICAiZmlsbE9wYWNpdHkiOiAwLjcsCiAgImZpbGxSdWxlIjogImV2ZW5vZGQiLAogICJsaW5lQ2FwIjogInJvdW5kIiwKICAibGluZUpvaW4iOiAicm91bmQiLAogICJvcGFjaXR5IjogMS4wLAogICJyYWRpdXMiOiA1LAogICJzdHJva2UiOiB0cnVlLAogICJ3ZWlnaHQiOiAzCn0KICAgICAgICAgICAgICAgICkKICAgICAgICAgICAgICAgIC5hZGRUbyhtYXBfNTAxMTQ0N2ZlYjQ5NGQ0MDllZjA5ZmI2ZjE1YmUyNGMpOwogICAgICAgICAgICAKICAgIAogICAgICAgICAgICB2YXIgcG9wdXBfNGNmMWQ1YjcwMDQyNDc5YzliZDVjZTQ1ZmYwNWEyMzEgPSBMLnBvcHVwKHttYXhXaWR0aDogJzEwMCUnCiAgICAgICAgICAgIAogICAgICAgICAgICB9KTsKCiAgICAgICAgICAgIAogICAgICAgICAgICAgICAgdmFyIGh0bWxfYjFjZWRjZTYwMThiNGNiYzlmMTcxZjYxMzliMGRhYTQgPSAkKGA8ZGl2IGlkPSJodG1sX2IxY2VkY2U2MDE4YjRjYmM5ZjE3MWY2MTM5YjBkYWE0IiBzdHlsZT0id2lkdGg6IDEwMC4wJTsgaGVpZ2h0OiAxMDAuMCU7Ij5QYXJrZGFsZSxSb25jZXN2YWxsZXM8L2Rpdj5gKVswXTsKICAgICAgICAgICAgICAgIHBvcHVwXzRjZjFkNWI3MDA0MjQ3OWM5YmQ1Y2U0NWZmMDVhMjMxLnNldENvbnRlbnQoaHRtbF9iMWNlZGNlNjAxOGI0Y2JjOWYxNzFmNjEzOWIwZGFhNCk7CiAgICAgICAgICAgIAoKICAgICAgICAgICAgY2lyY2xlX21hcmtlcl9jYTBmZWYwYjY3YjI0ZTNlYjFiM2EwNjk3Mzk3OWY3MS5iaW5kUG9wdXAocG9wdXBfNGNmMWQ1YjcwMDQyNDc5YzliZDVjZTQ1ZmYwNWEyMzEpCiAgICAgICAgICAgIDsKCiAgICAgICAgICAgIAogICAgICAgIAogICAgCiAgICAgICAgICAgIHZhciBjaXJjbGVfbWFya2VyX2I5Njk5ODZjMzFmMzQ0YjlhZjk0NjRlYzQ0NWM2MmNlID0gTC5jaXJjbGVNYXJrZXIoCiAgICAgICAgICAgICAgICBbNDMuNjUxNTcwNiwgLTc5LjQ4NDQ0OTldLAogICAgICAgICAgICAgICAgewogICJidWJibGluZ01vdXNlRXZlbnRzIjogdHJ1ZSwKICAiY29sb3IiOiAiYmx1ZSIsCiAgImRhc2hBcnJheSI6IG51bGwsCiAgImRhc2hPZmZzZXQiOiBudWxsLAogICJmaWxsIjogdHJ1ZSwKICAiZmlsbENvbG9yIjogIiMzMTg2Y2MiLAogICJmaWxsT3BhY2l0eSI6IDAuNywKICAiZmlsbFJ1bGUiOiAiZXZlbm9kZCIsCiAgImxpbmVDYXAiOiAicm91bmQiLAogICJsaW5lSm9pbiI6ICJyb3VuZCIsCiAgIm9wYWNpdHkiOiAxLjAsCiAgInJhZGl1cyI6IDUsCiAgInN0cm9rZSI6IHRydWUsCiAgIndlaWdodCI6IDMKfQogICAgICAgICAgICAgICAgKQogICAgICAgICAgICAgICAgLmFkZFRvKG1hcF81MDExNDQ3ZmViNDk0ZDQwOWVmMDlmYjZmMTViZTI0Yyk7CiAgICAgICAgICAgIAogICAgCiAgICAgICAgICAgIHZhciBwb3B1cF8wZTZjNzY1YTdjZDM0ZmIzODFiMTVhMTFlNzdmYmMxOSA9IEwucG9wdXAoe21heFdpZHRoOiAnMTAwJScKICAgICAgICAgICAgCiAgICAgICAgICAgIH0pOwoKICAgICAgICAgICAgCiAgICAgICAgICAgICAgICB2YXIgaHRtbF81YjA1N2U5NTk5NGQ0Mzk3YmRjZTAxNTA1MGM0YzMxYyA9ICQoYDxkaXYgaWQ9Imh0bWxfNWIwNTdlOTU5OTRkNDM5N2JkY2UwMTUwNTBjNGMzMWMiIHN0eWxlPSJ3aWR0aDogMTAwLjAlOyBoZWlnaHQ6IDEwMC4wJTsiPlJ1bm55bWVkZSxTd2Fuc2VhPC9kaXY+YClbMF07CiAgICAgICAgICAgICAgICBwb3B1cF8wZTZjNzY1YTdjZDM0ZmIzODFiMTVhMTFlNzdmYmMxOS5zZXRDb250ZW50KGh0bWxfNWIwNTdlOTU5OTRkNDM5N2JkY2UwMTUwNTBjNGMzMWMpOwogICAgICAgICAgICAKCiAgICAgICAgICAgIGNpcmNsZV9tYXJrZXJfYjk2OTk4NmMzMWYzNDRiOWFmOTQ2NGVjNDQ1YzYyY2UuYmluZFBvcHVwKHBvcHVwXzBlNmM3NjVhN2NkMzRmYjM4MWIxNWExMWU3N2ZiYzE5KQogICAgICAgICAgICA7CgogICAgICAgICAgICAKICAgICAgICAKICAgIAogICAgICAgICAgICB2YXIgY2lyY2xlX21hcmtlcl8xYjBkMWRkZWJhYmU0ZjkxOTIwYjMzNDZkMTRlYTQ4ZCA9IEwuY2lyY2xlTWFya2VyKAogICAgICAgICAgICAgICAgWzQzLjY2Mjc0MzksIC03OS4zMjE1NThdLAogICAgICAgICAgICAgICAgewogICJidWJibGluZ01vdXNlRXZlbnRzIjogdHJ1ZSwKICAiY29sb3IiOiAiYmx1ZSIsCiAgImRhc2hBcnJheSI6IG51bGwsCiAgImRhc2hPZmZzZXQiOiBudWxsLAogICJmaWxsIjogdHJ1ZSwKICAiZmlsbENvbG9yIjogIiMzMTg2Y2MiLAogICJmaWxsT3BhY2l0eSI6IDAuNywKICAiZmlsbFJ1bGUiOiAiZXZlbm9kZCIsCiAgImxpbmVDYXAiOiAicm91bmQiLAogICJsaW5lSm9pbiI6ICJyb3VuZCIsCiAgIm9wYWNpdHkiOiAxLjAsCiAgInJhZGl1cyI6IDUsCiAgInN0cm9rZSI6IHRydWUsCiAgIndlaWdodCI6IDMKfQogICAgICAgICAgICAgICAgKQogICAgICAgICAgICAgICAgLmFkZFRvKG1hcF81MDExNDQ3ZmViNDk0ZDQwOWVmMDlmYjZmMTViZTI0Yyk7CiAgICAgICAgICAgIAogICAgCiAgICAgICAgICAgIHZhciBwb3B1cF83OTZjMmQ0MjZkMGU0ZmFhYjcwMmFiYjM2MDYyMDk3ZiA9IEwucG9wdXAoe21heFdpZHRoOiAnMTAwJScKICAgICAgICAgICAgCiAgICAgICAgICAgIH0pOwoKICAgICAgICAgICAgCiAgICAgICAgICAgICAgICB2YXIgaHRtbF85ZDA4OGFiOGZkMGY0Y2I0OTEzMjE5NjEwNDAyMjk4YSA9ICQoYDxkaXYgaWQ9Imh0bWxfOWQwODhhYjhmZDBmNGNiNDkxMzIxOTYxMDQwMjI5OGEiIHN0eWxlPSJ3aWR0aDogMTAwLjAlOyBoZWlnaHQ6IDEwMC4wJTsiPkJ1c2luZXNzIFJlcGx5IE1haWwgUHJvY2Vzc2luZyBDZW50cmUgOTY5IEVhc3Rlcm48L2Rpdj5gKVswXTsKICAgICAgICAgICAgICAgIHBvcHVwXzc5NmMyZDQyNmQwZTRmYWFiNzAyYWJiMzYwNjIwOTdmLnNldENvbnRlbnQoaHRtbF85ZDA4OGFiOGZkMGY0Y2I0OTEzMjE5NjEwNDAyMjk4YSk7CiAgICAgICAgICAgIAoKICAgICAgICAgICAgY2lyY2xlX21hcmtlcl8xYjBkMWRkZWJhYmU0ZjkxOTIwYjMzNDZkMTRlYTQ4ZC5iaW5kUG9wdXAocG9wdXBfNzk2YzJkNDI2ZDBlNGZhYWI3MDJhYmIzNjA2MjA5N2YpCiAgICAgICAgICAgIDsKCiAgICAgICAgICAgIAogICAgICAgIAo8L3NjcmlwdD4=\" style=\"position:absolute;width:100%;height:100%;left:0;top:0;border:none !important;\" allowfullscreen webkitallowfullscreen mozallowfullscreen></iframe></div></div>"
            ],
            "text/plain": [
              "<folium.folium.Map at 0x7f65c7ad5e48>"
            ]
          },
          "metadata": {
            "tags": []
          },
          "execution_count": 8
        }
      ]
    },
    {
      "cell_type": "markdown",
      "metadata": {
        "id": "tH_gbLbgvX0r",
        "colab_type": "text"
      },
      "source": [
        "### Use Foursquare API to explore the neighborhoods and segment them"
      ]
    },
    {
      "cell_type": "code",
      "metadata": {
        "id": "2AxOlw0bvYeR",
        "colab_type": "code",
        "colab": {
          "base_uri": "https://localhost:8080/",
          "height": 1000
        },
        "outputId": "c9816353-a9b5-4e1b-f6da-d8485fd0b64c"
      },
      "source": [
        "# Lets just look at the first neighbourhood:\n",
        "neighbourhood_latitude = toronto_data.loc[0, 'Latitude'] # neighborhood latitude value\n",
        "neighbourhood_longitude = toronto_data.loc[0, 'Longitude'] # neighborhood longitude value\n",
        "\n",
        "neighbourhood_name = toronto_data.loc[0, 'Neighbourhood'] # neighborhood name\n",
        "\n",
        "print('Latitude and longitude values of {} are {}, {}.'.format(neighbourhood_name, \n",
        "                                                               neighbourhood_latitude, \n",
        "                                                               neighbourhood_longitude))\n",
        "\n",
        "CLIENT_ID = 'YI5XJRJ2TC1ELJE333WZYJILHOFEKJFR3T0BPKHBJ2SZL5YT' # your Foursquare ID\n",
        "CLIENT_SECRET = 'PXSJSS1OTE4XZ4TLFZEL20HR50ES2DCVIDISS5AN0IK24RU2' # your Foursquare Secret\n",
        "VERSION = '20191016' # Foursquare API version\n",
        "LIMIT = 50 # limit of number of venues returned by Foursquare API\n",
        "radius = 500 # define radius\n",
        "# create URL\n",
        "url = 'https://api.foursquare.com/v2/venues/explore?&client_id={}&client_secret={}&v={}&ll={},{}&radius={}&limit={}'.format(\n",
        "    CLIENT_ID, \n",
        "    CLIENT_SECRET, \n",
        "    VERSION, \n",
        "    neighbourhood_latitude, \n",
        "    neighbourhood_longitude, \n",
        "    radius, \n",
        "    LIMIT)\n",
        "\n",
        "results = requests.get(url).json()\n",
        "results"
      ],
      "execution_count": 9,
      "outputs": [
        {
          "output_type": "stream",
          "text": [
            "Latitude and longitude values of The Beaches are 43.67635739999999, -79.2930312.\n"
          ],
          "name": "stdout"
        },
        {
          "output_type": "execute_result",
          "data": {
            "text/plain": [
              "{'meta': {'code': 200, 'requestId': '5da6ec28b9961d002ba28b4a'},\n",
              " 'response': {'groups': [{'items': [{'reasons': {'count': 0,\n",
              "       'items': [{'reasonName': 'globalInteractionReason',\n",
              "         'summary': 'This spot is popular',\n",
              "         'type': 'general'}]},\n",
              "      'referralId': 'e-0-4bd461bc77b29c74a07d9282-0',\n",
              "      'venue': {'categories': [{'icon': {'prefix': 'https://ss3.4sqi.net/img/categories_v2/parks_outdoors/hikingtrail_',\n",
              "          'suffix': '.png'},\n",
              "         'id': '4bf58dd8d48988d159941735',\n",
              "         'name': 'Trail',\n",
              "         'pluralName': 'Trails',\n",
              "         'primary': True,\n",
              "         'shortName': 'Trail'}],\n",
              "       'id': '4bd461bc77b29c74a07d9282',\n",
              "       'location': {'address': 'Glen Manor',\n",
              "        'cc': 'CA',\n",
              "        'city': 'Toronto',\n",
              "        'country': 'Canada',\n",
              "        'crossStreet': 'Queen St.',\n",
              "        'distance': 89,\n",
              "        'formattedAddress': ['Glen Manor (Queen St.)', 'Toronto ON', 'Canada'],\n",
              "        'labeledLatLngs': [{'label': 'display',\n",
              "          'lat': 43.67682094413784,\n",
              "          'lng': -79.29394208780985}],\n",
              "        'lat': 43.67682094413784,\n",
              "        'lng': -79.29394208780985,\n",
              "        'state': 'ON'},\n",
              "       'name': 'Glen Manor Ravine',\n",
              "       'photos': {'count': 0, 'groups': []}}},\n",
              "     {'reasons': {'count': 0,\n",
              "       'items': [{'reasonName': 'globalInteractionReason',\n",
              "         'summary': 'This spot is popular',\n",
              "         'type': 'general'}]},\n",
              "      'referralId': 'e-0-4ad4c062f964a52011f820e3-1',\n",
              "      'venue': {'categories': [{'icon': {'prefix': 'https://ss3.4sqi.net/img/categories_v2/shops/food_grocery_',\n",
              "          'suffix': '.png'},\n",
              "         'id': '50aa9e744b90af0d42d5de0e',\n",
              "         'name': 'Health Food Store',\n",
              "         'pluralName': 'Health Food Stores',\n",
              "         'primary': True,\n",
              "         'shortName': 'Health Food Store'}],\n",
              "       'id': '4ad4c062f964a52011f820e3',\n",
              "       'location': {'address': '125 Southwood Dr',\n",
              "        'cc': 'CA',\n",
              "        'city': 'Toronto',\n",
              "        'country': 'Canada',\n",
              "        'distance': 471,\n",
              "        'formattedAddress': ['125 Southwood Dr',\n",
              "         'Toronto ON M4E 0B8',\n",
              "         'Canada'],\n",
              "        'labeledLatLngs': [{'label': 'display',\n",
              "          'lat': 43.678879,\n",
              "          'lng': -79.297734}],\n",
              "        'lat': 43.678879,\n",
              "        'lng': -79.297734,\n",
              "        'postalCode': 'M4E 0B8',\n",
              "        'state': 'ON'},\n",
              "       'name': 'The Big Carrot Natural Food Market',\n",
              "       'photos': {'count': 0, 'groups': []},\n",
              "       'venuePage': {'id': '75150878'}}},\n",
              "     {'reasons': {'count': 0,\n",
              "       'items': [{'reasonName': 'globalInteractionReason',\n",
              "         'summary': 'This spot is popular',\n",
              "         'type': 'general'}]},\n",
              "      'referralId': 'e-0-4b8daea1f964a520480833e3-2',\n",
              "      'venue': {'categories': [{'icon': {'prefix': 'https://ss3.4sqi.net/img/categories_v2/nightlife/pub_',\n",
              "          'suffix': '.png'},\n",
              "         'id': '4bf58dd8d48988d11b941735',\n",
              "         'name': 'Pub',\n",
              "         'pluralName': 'Pubs',\n",
              "         'primary': True,\n",
              "         'shortName': 'Pub'}],\n",
              "       'id': '4b8daea1f964a520480833e3',\n",
              "       'location': {'address': '676 Kingston Rd.',\n",
              "        'cc': 'CA',\n",
              "        'city': 'Toronto',\n",
              "        'country': 'Canada',\n",
              "        'crossStreet': 'at Main St.',\n",
              "        'distance': 460,\n",
              "        'formattedAddress': ['676 Kingston Rd. (at Main St.)',\n",
              "         'Toronto ON M4E 1R4',\n",
              "         'Canada'],\n",
              "        'labeledLatLngs': [{'label': 'display',\n",
              "          'lat': 43.679181434941015,\n",
              "          'lng': -79.29721535878515}],\n",
              "        'lat': 43.679181434941015,\n",
              "        'lng': -79.29721535878515,\n",
              "        'postalCode': 'M4E 1R4',\n",
              "        'state': 'ON'},\n",
              "       'name': 'Grover Pub and Grub',\n",
              "       'photos': {'count': 0, 'groups': []}}},\n",
              "     {'reasons': {'count': 0,\n",
              "       'items': [{'reasonName': 'globalInteractionReason',\n",
              "         'summary': 'This spot is popular',\n",
              "         'type': 'general'}]},\n",
              "      'referralId': 'e-0-56afcad6498e05333bf42031-3',\n",
              "      'venue': {'categories': [{'icon': {'prefix': 'https://ss3.4sqi.net/img/categories_v2/parks_outdoors/outdoors_',\n",
              "          'suffix': '.png'},\n",
              "         'id': '4bf58dd8d48988d162941735',\n",
              "         'name': 'Other Great Outdoors',\n",
              "         'pluralName': 'Other Great Outdoors',\n",
              "         'primary': True,\n",
              "         'shortName': 'Other Outdoors'}],\n",
              "       'id': '56afcad6498e05333bf42031',\n",
              "       'location': {'cc': 'CA',\n",
              "        'country': 'Canada',\n",
              "        'distance': 141,\n",
              "        'formattedAddress': ['Canada'],\n",
              "        'labeledLatLngs': [{'label': 'display',\n",
              "          'lat': 43.67629984029563,\n",
              "          'lng': -79.2947841389563}],\n",
              "        'lat': 43.67629984029563,\n",
              "        'lng': -79.2947841389563},\n",
              "       'name': 'Glen Stewart Ravine',\n",
              "       'photos': {'count': 0, 'groups': []}}},\n",
              "     {'reasons': {'count': 0,\n",
              "       'items': [{'reasonName': 'globalInteractionReason',\n",
              "         'summary': 'This spot is popular',\n",
              "         'type': 'general'}]},\n",
              "      'referralId': 'e-0-4df91c4bae60f95f82229ad5-4',\n",
              "      'venue': {'categories': [{'icon': {'prefix': 'https://ss3.4sqi.net/img/categories_v2/parks_outdoors/neighborhood_',\n",
              "          'suffix': '.png'},\n",
              "         'id': '4f2a25ac4b909258e854f55f',\n",
              "         'name': 'Neighborhood',\n",
              "         'pluralName': 'Neighborhoods',\n",
              "         'primary': True,\n",
              "         'shortName': 'Neighborhood'}],\n",
              "       'id': '4df91c4bae60f95f82229ad5',\n",
              "       'location': {'cc': 'CA',\n",
              "        'city': 'Toronto',\n",
              "        'country': 'Canada',\n",
              "        'distance': 468,\n",
              "        'formattedAddress': ['Toronto ON', 'Canada'],\n",
              "        'labeledLatLngs': [{'label': 'display',\n",
              "          'lat': 43.68056321147582,\n",
              "          'lng': -79.2928688743688}],\n",
              "        'lat': 43.68056321147582,\n",
              "        'lng': -79.2928688743688,\n",
              "        'state': 'ON'},\n",
              "       'name': 'Upper Beaches',\n",
              "       'photos': {'count': 0, 'groups': []}}}],\n",
              "    'name': 'recommended',\n",
              "    'type': 'Recommended Places'}],\n",
              "  'headerFullLocation': 'The Beaches, Toronto',\n",
              "  'headerLocation': 'The Beaches',\n",
              "  'headerLocationGranularity': 'neighborhood',\n",
              "  'suggestedBounds': {'ne': {'lat': 43.680857404499996,\n",
              "    'lng': -79.28682091449052},\n",
              "   'sw': {'lat': 43.67185739549999, 'lng': -79.29924148550948}},\n",
              "  'totalResults': 5}}"
            ]
          },
          "metadata": {
            "tags": []
          },
          "execution_count": 9
        }
      ]
    },
    {
      "cell_type": "markdown",
      "metadata": {
        "id": "IW41-Kqw_KbB",
        "colab_type": "text"
      },
      "source": [
        "### Borrow getNearbyVenues function from the labs "
      ]
    },
    {
      "cell_type": "code",
      "metadata": {
        "id": "8nQfBR-r_Ij6",
        "colab_type": "code",
        "colab": {}
      },
      "source": [
        "def getNearbyVenues(names, latitudes, longitudes, radius=500):\n",
        "    \n",
        "    venues_list=[]\n",
        "    for name, lat, lng in zip(names, latitudes, longitudes):\n",
        "        print(name)\n",
        "            \n",
        "        # create the API request URL\n",
        "        url = 'https://api.foursquare.com/v2/venues/explore?&client_id={}&client_secret={}&v={}&ll={},{}&radius={}&limit={}'.format(\n",
        "            CLIENT_ID, \n",
        "            CLIENT_SECRET, \n",
        "            VERSION, \n",
        "            lat, \n",
        "            lng, \n",
        "            radius, \n",
        "            LIMIT)\n",
        "            \n",
        "        # make the GET request\n",
        "        results = requests.get(url).json()[\"response\"]['groups'][0]['items']\n",
        "        \n",
        "        # return only relevant information for each nearby venue\n",
        "        venues_list.append([(\n",
        "            name, \n",
        "            lat, \n",
        "            lng, \n",
        "            v['venue']['name'], \n",
        "            v['venue']['location']['lat'], \n",
        "            v['venue']['location']['lng'],  \n",
        "            v['venue']['categories'][0]['name']) for v in results])\n",
        "\n",
        "    nearby_venues = pd.DataFrame([item for venue_list in venues_list for item in venue_list])\n",
        "    nearby_venues.columns = ['Neighborhood', \n",
        "                  'Neighborhood Latitude', \n",
        "                  'Neighborhood Longitude', \n",
        "                  'Venue', \n",
        "                  'Venue Latitude', \n",
        "                  'Venue Longitude', \n",
        "                  'Venue Category']\n",
        "    \n",
        "    return(nearby_venues)"
      ],
      "execution_count": 0,
      "outputs": []
    },
    {
      "cell_type": "markdown",
      "metadata": {
        "id": "RdaUN6xq_g75",
        "colab_type": "text"
      },
      "source": [
        "### Find nearby venues for Toronto\n",
        "= getNearbyVenues(names=manhattan_data['Neighbourhood'],\n",
        "                                   latitudes=manhattan_data['Latitude'],\n",
        "                                   longitudes=manhattan_data['Longitude']\n",
        "                                  )"
      ]
    },
    {
      "cell_type": "code",
      "metadata": {
        "id": "pP5uyFzR0Dr5",
        "colab_type": "code",
        "colab": {}
      },
      "source": [
        "\n",
        "\n",
        "\n",
        "venu = results['response']['groups'][0]['items']\n",
        "\n",
        "\n",
        "for venue in venu:\n",
        "\n",
        "venues.append((\n",
        "\n",
        "postcode,\n",
        "\n",
        "borough,\n",
        "\n",
        "neighbourhood,\n",
        "\n",
        "lat,\n",
        "\n",
        "long,\n",
        "\n",
        "venue['venue']['name'],\n",
        "\n",
        "venue['venue']['location']['lat'],\n",
        "\n",
        "venue['venue']['location']['lng'],\n",
        "\n",
        "venue['venue']['categories'][0]['name']))\n",
        "\n",
        "error :\n",
        "  \n",
        "#  Try This one ?  Need to add default value for LIMIT\n",
        "I run the following code and get the error below:\n",
        "\n",
        "def getNearbyVenues(names, latitudes, longitudes, radius=500, limit=500):\n",
        "\n",
        "venues_list=[]\n",
        "\n",
        "for name, lat, lng in zip(names, latitudes, longitudes):\n",
        "\n",
        "print(name)\n",
        "\n",
        "# create the API request URL\n",
        "\n",
        "url = 'https://api.foursquare.com/v2/venues/explore?&client_id=R2GV5DLRG3UMJC3C2OXZAORWIBP3WIU35NEUS3I4U3R3HKG3&client_secret=OGF4P1A01F1Q0R2ARWKEVKUA5AH40AF3IC1S2BZ0B2AT2LIA&v=20180605&ll= 40.7900869,-73.9598295&radius=500&limit=500'.format(\n",
        "\n",
        "CLIENT_ID,\n",
        "\n",
        "CLIENT_SECRET,\n",
        "\n",
        "VERSION,\n",
        "\n",
        "lat,\n",
        "\n",
        "lng,\n",
        "\n",
        "radius,\n",
        "\n",
        "LIMIT)\n",
        "\n",
        "\n",
        "# make the GET request\n",
        "\n",
        "results = requests.get(url).json()[\"response\"]['groups'][0]['items']\n",
        "\n",
        "\n",
        "# return only relevant information for each nearby venue\n",
        "\n",
        "venues_list.append([(\n",
        "\n",
        "name,\n",
        "\n",
        "lat,\n",
        "\n",
        "lng,\n",
        "\n",
        "v['venue']['name'],\n",
        "\n",
        "v['venue']['location']['lat'],\n",
        "\n",
        "v['venue']['location']['lng'],\n",
        "\n",
        "v['venue']['categories'][0]['name']) for v in results])\n",
        "\n",
        "\n",
        "nearby_venues = pd.DataFrame([item for venue_list in venues_list for item in venue_list])\n",
        "\n",
        "nearby_venues.columns = ['Neighborhood',\n",
        "\n",
        "'Neighborhood Latitude',\n",
        "\n",
        "'Neighborhood Longitude',\n",
        "\n",
        "'Venue',\n",
        "\n",
        "'Venue Latitude',\n",
        "\n",
        "'Venue Longitude',\n",
        "\n",
        "'Venue Category']\n",
        "\n",
        "return(nearby_venues)\n",
        "\n",
        "\n",
        "#####\n",
        "#Using arcgis\n",
        "Lat_list=[]\n",
        "Lng_list=[]\n",
        "for i in range(neighbourhood_df.shape[0]):\n",
        "    address='{}, Toronto, Ontario'.format(neighbourhood_df.at[i,'Postcode'])\n",
        "    g = geocoder.arcgis(address)\n",
        "    Lat_list.append(g.latlng[0])\n",
        "    Lng_list.append(g.latlng[1])\n",
        "    \n",
        "#In Part 3, I run the following code to group rows by neighborhood and by take mean of the frequency of occurrence of each category\n",
        "\n",
        "downtown_toronto_grouped = downtown_toronto_onehot.groupby(['Neighborhood']).mean().reset_index()\n",
        "\n",
        "\n",
        "#When clustering, remember You cannot include columns that are strings in your dataframe, which you want to cluster. If I were to guess, I think you are including the column of neighborhoods names, am I right?\n",
        "\n"
      ],
      "execution_count": 0,
      "outputs": []
    },
    {
      "cell_type": "code",
      "metadata": {
        "id": "eru1GCwyuh7j",
        "colab_type": "code",
        "colab": {}
      },
      "source": [
        ""
      ],
      "execution_count": 0,
      "outputs": []
    },
    {
      "cell_type": "code",
      "metadata": {
        "id": "XS4Hg7XSpCds",
        "colab_type": "code",
        "colab": {}
      },
      "source": [
        ""
      ],
      "execution_count": 0,
      "outputs": []
    }
  ]
}